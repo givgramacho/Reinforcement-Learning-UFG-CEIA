{
  "nbformat": 4,
  "nbformat_minor": 0,
  "metadata": {
    "colab": {
      "name": "Introdução a Python.ipynb",
      "provenance": [],
      "collapsed_sections": []
    },
    "kernelspec": {
      "display_name": "Python 3",
      "language": "python",
      "name": "python3"
    }
  },
  "cells": [
    {
      "cell_type": "markdown",
      "metadata": {
        "id": "1SbjnYh4fktU"
      },
      "source": [
        "# Introdução à linguagem Python"
      ]
    },
    {
      "cell_type": "markdown",
      "metadata": {
        "id": "TPXb8JeVfzhU"
      },
      "source": [
        "[Python](https://docs.python.org/3/tutorial/index.html) é uma linguagem de programação interpretada de alto nível para fins gerais. Suas construções de linguagem, bem como sua abordagem orientada a objetos visam ajudar os programadores a escrever código lógico e claro para projetos de pequena e larga escala.\n",
        "\n",
        "  "
      ]
    },
    {
      "cell_type": "markdown",
      "metadata": {
        "id": "O3n8E8DxfktY"
      },
      "source": [
        "## Estilo de programação (convenções)"
      ]
    },
    {
      "cell_type": "markdown",
      "metadata": {
        "id": "UYhy18wofkta"
      },
      "source": [
        "Os principais aspectos relacionados ao estilo recomendado para os códigos na linguagem estão listados a seguir. Um guia completo pode ser encontrado em [PEP 8](https://www.python.org/dev/peps/pep-0008) ."
      ]
    },
    {
      "cell_type": "markdown",
      "metadata": {
        "id": "z7F5thznfkte"
      },
      "source": [
        "- Use identação de 4 espaços e não tabulação.\n",
        "- Não use linhas com mais de 80 caracteres.\n",
        "- Use linhas em branco para separar funções e classes, e blocos de código dentro das funções.\n",
        "- Sempre que possível, coloque comentários nas linhas.\n",
        "- Use *docstrings* na definição das funções.\n",
        "- Use espaços antes e após os operadores e também após as vírgulas, mas não os use dentro de construções com parênteses: a = f(1, 2) + g(3, 4).\n",
        "- Use a convenção [CamelCase](https://pt.wikipedia.org/wiki/CamelCase) para nomear as classes e a convenção minúsculas_com_underscores para funções e métodos. Sempre use self como o primeiro argumento de um método de uma classe.\n",
        "- Use o padrão de codificação Python (UTF-8), ou então ASCII.\n",
        "- Da mesma forma, não use caracteres não ASCII em nomes de identificadores."
      ]
    },
    {
      "cell_type": "markdown",
      "metadata": {
        "id": "WxSOe0jrfkti"
      },
      "source": [
        "## Tipos básicos"
      ]
    },
    {
      "cell_type": "markdown",
      "metadata": {
        "id": "5RaBOUBGiDNg"
      },
      "source": [
        "- Python tem tipagem dinâmica. Portanto, não é requerido declarações de tipos."
      ]
    },
    {
      "cell_type": "markdown",
      "metadata": {
        "id": "fKwPv4oUfktk"
      },
      "source": [
        "### Números"
      ]
    },
    {
      "cell_type": "markdown",
      "metadata": {
        "id": "Gq4YJEKSfktm"
      },
      "source": [
        "- Inteiros (int): 2, 4, 100, 99\n",
        "- Fracionários (float): 3.0, 4.5, 66.8\n",
        "- Decimal e Fractions\n",
        "- Complexos"
      ]
    },
    {
      "cell_type": "code",
      "metadata": {
        "id": "0eIWQuFAfktq",
        "colab": {
          "base_uri": "https://localhost:8080/"
        },
        "outputId": "c10611c0-e149-4a5f-a4ce-e7388cc2f220"
      },
      "source": [
        "1 + 3 - 5 + 89 -9"
      ],
      "execution_count": null,
      "outputs": [
        {
          "output_type": "execute_result",
          "data": {
            "text/plain": [
              "79"
            ]
          },
          "metadata": {},
          "execution_count": 1
        }
      ]
    },
    {
      "cell_type": "code",
      "metadata": {
        "id": "X6n5Ifcvfkt2",
        "colab": {
          "base_uri": "https://localhost:8080/"
        },
        "outputId": "90e20be3-fd8c-42be-8ba5-15f4582ed688"
      },
      "source": [
        "20 - 3*6"
      ],
      "execution_count": null,
      "outputs": [
        {
          "output_type": "execute_result",
          "data": {
            "text/plain": [
              "2"
            ]
          },
          "metadata": {},
          "execution_count": 2
        }
      ]
    },
    {
      "cell_type": "code",
      "metadata": {
        "id": "Fcd3a8Z-fkuA",
        "colab": {
          "base_uri": "https://localhost:8080/"
        },
        "outputId": "fe70e924-bb10-4f81-a7ee-288fe63aea0a"
      },
      "source": [
        "(3 * 6) - (4 * 4)"
      ],
      "execution_count": null,
      "outputs": [
        {
          "output_type": "execute_result",
          "data": {
            "text/plain": [
              "2"
            ]
          },
          "metadata": {},
          "execution_count": 3
        }
      ]
    },
    {
      "cell_type": "code",
      "metadata": {
        "id": "LRvo3V116DVL",
        "colab": {
          "base_uri": "https://localhost:8080/"
        },
        "outputId": "99861a85-29c4-4389-88ca-e2fdc68edc87"
      },
      "source": [
        "(3-5)*7/2"
      ],
      "execution_count": null,
      "outputs": [
        {
          "output_type": "execute_result",
          "data": {
            "text/plain": [
              "-7.0"
            ]
          },
          "metadata": {},
          "execution_count": 4
        }
      ]
    },
    {
      "cell_type": "code",
      "metadata": {
        "id": "A954LVRsfkuI",
        "colab": {
          "base_uri": "https://localhost:8080/"
        },
        "outputId": "85e34a48-42db-445b-dcc9-0bd39ecef813"
      },
      "source": [
        "(50 - (4 * 4)/3)"
      ],
      "execution_count": null,
      "outputs": [
        {
          "output_type": "execute_result",
          "data": {
            "text/plain": [
              "44.666666666666664"
            ]
          },
          "metadata": {},
          "execution_count": 5
        }
      ]
    },
    {
      "cell_type": "markdown",
      "metadata": {
        "id": "ioOu9WwYfkuO"
      },
      "source": [
        "### Operações Aritméticas"
      ]
    },
    {
      "cell_type": "code",
      "metadata": {
        "id": "X4OInkmkfkuQ",
        "colab": {
          "base_uri": "https://localhost:8080/"
        },
        "outputId": "3c9fdbd5-5fb6-4bca-83b6-df4d5b61d604"
      },
      "source": [
        "3 + 4 - 5 # soma subtração"
      ],
      "execution_count": null,
      "outputs": [
        {
          "output_type": "execute_result",
          "data": {
            "text/plain": [
              "2"
            ]
          },
          "metadata": {},
          "execution_count": 6
        }
      ]
    },
    {
      "cell_type": "code",
      "metadata": {
        "id": "sqii2_tHfkua",
        "colab": {
          "base_uri": "https://localhost:8080/"
        },
        "outputId": "523f94f9-ab44-44b9-a0a9-fbc2e700451b"
      },
      "source": [
        "17 / 3 # divisão clássica: retorna um número fracionário"
      ],
      "execution_count": null,
      "outputs": [
        {
          "output_type": "execute_result",
          "data": {
            "text/plain": [
              "5.666666666666667"
            ]
          },
          "metadata": {},
          "execution_count": 7
        }
      ]
    },
    {
      "cell_type": "code",
      "metadata": {
        "id": "05snQ8YGfkug",
        "colab": {
          "base_uri": "https://localhost:8080/"
        },
        "outputId": "ddacb04e-4b1e-4000-d8e2-dc2706a1f8cc"
      },
      "source": [
        "17 // 3 # divisão inteira (descarta a parte fracionária)"
      ],
      "execution_count": null,
      "outputs": [
        {
          "output_type": "execute_result",
          "data": {
            "text/plain": [
              "5"
            ]
          },
          "metadata": {},
          "execution_count": 8
        }
      ]
    },
    {
      "cell_type": "code",
      "metadata": {
        "id": "jRl0evT6fkuo",
        "colab": {
          "base_uri": "https://localhost:8080/"
        },
        "outputId": "9a52d640-3702-447c-ba89-8f5ac64027d9"
      },
      "source": [
        "17 % 3 # resto da divisão"
      ],
      "execution_count": null,
      "outputs": [
        {
          "output_type": "execute_result",
          "data": {
            "text/plain": [
              "2"
            ]
          },
          "metadata": {},
          "execution_count": 9
        }
      ]
    },
    {
      "cell_type": "code",
      "metadata": {
        "id": "3_hJbX7Gfku0",
        "colab": {
          "base_uri": "https://localhost:8080/"
        },
        "outputId": "a7787d4b-2f6b-42fb-945e-bc0f01a601ef"
      },
      "source": [
        "2 ** 7 # exponenciação"
      ],
      "execution_count": null,
      "outputs": [
        {
          "output_type": "execute_result",
          "data": {
            "text/plain": [
              "128"
            ]
          },
          "metadata": {},
          "execution_count": 10
        }
      ]
    },
    {
      "cell_type": "markdown",
      "metadata": {
        "id": "82900QXzjT4m"
      },
      "source": [
        "### Operações Lógicas"
      ]
    },
    {
      "cell_type": "code",
      "metadata": {
        "id": "CT_Qs5TCj4-I"
      },
      "source": [
        "x , y = 4, 5"
      ],
      "execution_count": null,
      "outputs": []
    },
    {
      "cell_type": "code",
      "metadata": {
        "id": "HvKsxSkhkAsm",
        "colab": {
          "base_uri": "https://localhost:8080/"
        },
        "outputId": "2b16786f-36a9-4e66-9c5b-32d0289e8801"
      },
      "source": [
        "x == y   # igualdade"
      ],
      "execution_count": null,
      "outputs": [
        {
          "output_type": "execute_result",
          "data": {
            "text/plain": [
              "False"
            ]
          },
          "metadata": {},
          "execution_count": 12
        }
      ]
    },
    {
      "cell_type": "code",
      "metadata": {
        "id": "L45hN2xz6f0I",
        "colab": {
          "base_uri": "https://localhost:8080/"
        },
        "outputId": "f279386f-1b85-4261-91a0-ae46d86a2b52"
      },
      "source": [
        "y"
      ],
      "execution_count": null,
      "outputs": [
        {
          "output_type": "execute_result",
          "data": {
            "text/plain": [
              "5"
            ]
          },
          "metadata": {},
          "execution_count": 13
        }
      ]
    },
    {
      "cell_type": "code",
      "metadata": {
        "id": "JPc2s-tmkSIA",
        "colab": {
          "base_uri": "https://localhost:8080/"
        },
        "outputId": "ac32040a-a30f-4fdb-f2fc-3080c615c5a6"
      },
      "source": [
        "x != y # desigualdade"
      ],
      "execution_count": null,
      "outputs": [
        {
          "output_type": "execute_result",
          "data": {
            "text/plain": [
              "True"
            ]
          },
          "metadata": {},
          "execution_count": 14
        }
      ]
    },
    {
      "cell_type": "code",
      "metadata": {
        "id": "6heWPsS5kvcc",
        "colab": {
          "base_uri": "https://localhost:8080/"
        },
        "outputId": "2a96df3e-d3f6-470a-c65c-c85a2340d7b4"
      },
      "source": [
        "x > y # maior que"
      ],
      "execution_count": null,
      "outputs": [
        {
          "output_type": "execute_result",
          "data": {
            "text/plain": [
              "False"
            ]
          },
          "metadata": {},
          "execution_count": 15
        }
      ]
    },
    {
      "cell_type": "code",
      "metadata": {
        "id": "r8Vg0EXkk7nQ",
        "colab": {
          "base_uri": "https://localhost:8080/"
        },
        "outputId": "d31dbd64-bbe3-4f19-8731-97d813b13cba"
      },
      "source": [
        "x < y # menor que"
      ],
      "execution_count": null,
      "outputs": [
        {
          "output_type": "execute_result",
          "data": {
            "text/plain": [
              "True"
            ]
          },
          "metadata": {},
          "execution_count": 16
        }
      ]
    },
    {
      "cell_type": "code",
      "metadata": {
        "id": "1Vr8S0dIlAXs",
        "colab": {
          "base_uri": "https://localhost:8080/"
        },
        "outputId": "7cf74d0e-e9ea-4c84-afce-fe4250caa271"
      },
      "source": [
        "x <= y # menor ou igual"
      ],
      "execution_count": null,
      "outputs": [
        {
          "output_type": "execute_result",
          "data": {
            "text/plain": [
              "True"
            ]
          },
          "metadata": {},
          "execution_count": 17
        }
      ]
    },
    {
      "cell_type": "code",
      "metadata": {
        "id": "08XU3a4olAhe",
        "colab": {
          "base_uri": "https://localhost:8080/"
        },
        "outputId": "cd731dbc-1a82-4c86-bf45-17a69eb7d1e1"
      },
      "source": [
        "x in [3, 4, 5] # está em"
      ],
      "execution_count": null,
      "outputs": [
        {
          "output_type": "execute_result",
          "data": {
            "text/plain": [
              "True"
            ]
          },
          "metadata": {},
          "execution_count": 18
        }
      ]
    },
    {
      "cell_type": "code",
      "metadata": {
        "id": "kGEcyyyglAkg",
        "colab": {
          "base_uri": "https://localhost:8080/"
        },
        "outputId": "6ebfce9f-7048-41d3-b24e-e5a047409571"
      },
      "source": [
        "x >= y # maior ou igual"
      ],
      "execution_count": null,
      "outputs": [
        {
          "output_type": "execute_result",
          "data": {
            "text/plain": [
              "False"
            ]
          },
          "metadata": {},
          "execution_count": 19
        }
      ]
    },
    {
      "cell_type": "code",
      "metadata": {
        "id": "fjhPHGtXlAdg",
        "colab": {
          "base_uri": "https://localhost:8080/"
        },
        "outputId": "ca42d905-55d1-4c10-ebc7-474ef571d74e"
      },
      "source": [
        "x not in [3, 6, 9] # não está em"
      ],
      "execution_count": null,
      "outputs": [
        {
          "output_type": "execute_result",
          "data": {
            "text/plain": [
              "True"
            ]
          },
          "metadata": {},
          "execution_count": 20
        }
      ]
    },
    {
      "cell_type": "code",
      "metadata": {
        "id": "_SSnYqGTlATa",
        "colab": {
          "base_uri": "https://localhost:8080/"
        },
        "outputId": "4525a51d-14b9-4fed-cabf-402002bd55e8"
      },
      "source": [
        "x is 4 # é"
      ],
      "execution_count": null,
      "outputs": [
        {
          "output_type": "execute_result",
          "data": {
            "text/plain": [
              "True"
            ]
          },
          "metadata": {},
          "execution_count": 21
        }
      ]
    },
    {
      "cell_type": "code",
      "metadata": {
        "id": "54WE5G9OlbD4",
        "colab": {
          "base_uri": "https://localhost:8080/"
        },
        "outputId": "a9d6314f-06bb-4c26-a4c7-76543ed4959e"
      },
      "source": [
        "x is not 5 # não é"
      ],
      "execution_count": null,
      "outputs": [
        {
          "output_type": "execute_result",
          "data": {
            "text/plain": [
              "True"
            ]
          },
          "metadata": {},
          "execution_count": 22
        }
      ]
    },
    {
      "cell_type": "markdown",
      "metadata": {
        "id": "zIm6MUFJfku4"
      },
      "source": [
        "### Atribuição"
      ]
    },
    {
      "cell_type": "markdown",
      "metadata": {
        "id": "uUlucnCji2AA"
      },
      "source": [
        "- Não há declaração explícita de variáveis. Uma variável passa a existir quando um valor é atribuído a ela."
      ]
    },
    {
      "cell_type": "code",
      "metadata": {
        "id": "hZYnTn5Hfku6"
      },
      "source": [
        "altura = 1.7 \n",
        "largura = 5\n",
        "comprimento = 7\n",
        "area = largura * comprimento"
      ],
      "execution_count": null,
      "outputs": []
    },
    {
      "cell_type": "code",
      "metadata": {
        "id": "KNGxU-o-ru75",
        "colab": {
          "base_uri": "https://localhost:8080/"
        },
        "outputId": "9cde53bc-1385-4e6c-b2cb-7dcf7fb5b3a1"
      },
      "source": [
        "area"
      ],
      "execution_count": null,
      "outputs": [
        {
          "output_type": "execute_result",
          "data": {
            "text/plain": [
              "35"
            ]
          },
          "metadata": {},
          "execution_count": 24
        }
      ]
    },
    {
      "cell_type": "code",
      "metadata": {
        "id": "SzqkbUBEfkvC",
        "colab": {
          "base_uri": "https://localhost:8080/"
        },
        "outputId": "d08ed468-dfc3-421c-a737-8571849b0fd8"
      },
      "source": [
        "volume = area * altura\n",
        "volume "
      ],
      "execution_count": null,
      "outputs": [
        {
          "output_type": "execute_result",
          "data": {
            "text/plain": [
              "59.5"
            ]
          },
          "metadata": {},
          "execution_count": 25
        }
      ]
    },
    {
      "cell_type": "code",
      "metadata": {
        "id": "GgNEmtpefkvI",
        "colab": {
          "base_uri": "https://localhost:8080/"
        },
        "outputId": "d1d4318c-b25b-4a41-8821-9c964a183702"
      },
      "source": [
        "4 * 4.76 - 3 # podem ser combinados números inteiros e fracionários nas operações"
      ],
      "execution_count": null,
      "outputs": [
        {
          "output_type": "execute_result",
          "data": {
            "text/plain": [
              "16.04"
            ]
          },
          "metadata": {},
          "execution_count": 26
        }
      ]
    },
    {
      "cell_type": "code",
      "metadata": {
        "id": "N0UM5930fkvO",
        "colab": {
          "base_uri": "https://localhost:8080/"
        },
        "outputId": "17586d3f-ef2e-47e0-c885-238b54f9a9e8"
      },
      "source": [
        "16 ** (1/2) "
      ],
      "execution_count": null,
      "outputs": [
        {
          "output_type": "execute_result",
          "data": {
            "text/plain": [
              "4.0"
            ]
          },
          "metadata": {},
          "execution_count": 27
        }
      ]
    },
    {
      "cell_type": "markdown",
      "metadata": {
        "id": "-7bZmApofkvU"
      },
      "source": [
        "- No modo interativo, o último valor impresso é armazenado na variável ** _ ** . Não se pode atribuir valores a esta variável."
      ]
    },
    {
      "cell_type": "code",
      "metadata": {
        "id": "Xhf6xe48fkvU",
        "colab": {
          "base_uri": "https://localhost:8080/"
        },
        "outputId": "00de51aa-268d-475b-e378-6b9eea9ea868"
      },
      "source": [
        "tax = 12.5 / 100\n",
        "price = 100.5\n",
        "price * tax"
      ],
      "execution_count": null,
      "outputs": [
        {
          "output_type": "execute_result",
          "data": {
            "text/plain": [
              "12.5625"
            ]
          },
          "metadata": {},
          "execution_count": 28
        }
      ]
    },
    {
      "cell_type": "code",
      "metadata": {
        "id": "IMwqpuSMfkvY",
        "colab": {
          "base_uri": "https://localhost:8080/"
        },
        "outputId": "29a4bdc8-6001-4bcb-bda9-5f63545c2809"
      },
      "source": [
        "price + _"
      ],
      "execution_count": null,
      "outputs": [
        {
          "output_type": "execute_result",
          "data": {
            "text/plain": [
              "113.0625"
            ]
          },
          "metadata": {},
          "execution_count": 29
        }
      ]
    },
    {
      "cell_type": "code",
      "metadata": {
        "id": "cYA_E2BGfkvi",
        "colab": {
          "base_uri": "https://localhost:8080/"
        },
        "outputId": "a6e22d75-447f-446b-c427-1ac28be3a070"
      },
      "source": [
        "round(34.567, 2)"
      ],
      "execution_count": null,
      "outputs": [
        {
          "output_type": "execute_result",
          "data": {
            "text/plain": [
              "34.57"
            ]
          },
          "metadata": {},
          "execution_count": 30
        }
      ]
    },
    {
      "cell_type": "markdown",
      "metadata": {
        "id": "ZyGdwoKFmkpM"
      },
      "source": [
        "### Operadores para atribuição"
      ]
    },
    {
      "cell_type": "code",
      "metadata": {
        "id": "9bKsRslVmohU",
        "colab": {
          "base_uri": "https://localhost:8080/"
        },
        "outputId": "f3a225b6-9df7-46db-ad31-5e7053b4f0b0"
      },
      "source": [
        "x = int(input('Entre com um número'))\n",
        "x"
      ],
      "execution_count": null,
      "outputs": [
        {
          "name": "stdout",
          "output_type": "stream",
          "text": [
            "Entre com um número2\n"
          ]
        },
        {
          "output_type": "execute_result",
          "data": {
            "text/plain": [
              "2"
            ]
          },
          "metadata": {},
          "execution_count": 31
        }
      ]
    },
    {
      "cell_type": "code",
      "metadata": {
        "id": "KZP1E8DumwHc",
        "colab": {
          "base_uri": "https://localhost:8080/"
        },
        "outputId": "60a4c4b3-416d-4c02-a83d-bc9e18539318"
      },
      "source": [
        "x += 2\n",
        "x"
      ],
      "execution_count": null,
      "outputs": [
        {
          "output_type": "execute_result",
          "data": {
            "text/plain": [
              "4"
            ]
          },
          "metadata": {},
          "execution_count": 32
        }
      ]
    },
    {
      "cell_type": "code",
      "metadata": {
        "id": "Ki_O0L01m2Gk",
        "colab": {
          "base_uri": "https://localhost:8080/"
        },
        "outputId": "14ac7fa3-5b7f-4966-e4e4-99e7b44b66b6"
      },
      "source": [
        "x -= 2\n",
        "x"
      ],
      "execution_count": null,
      "outputs": [
        {
          "output_type": "execute_result",
          "data": {
            "text/plain": [
              "2"
            ]
          },
          "metadata": {},
          "execution_count": 33
        }
      ]
    },
    {
      "cell_type": "code",
      "metadata": {
        "id": "bTz5zpDCnBIM",
        "colab": {
          "base_uri": "https://localhost:8080/"
        },
        "outputId": "226b2879-e4fd-45e4-daab-a619b37e39f0"
      },
      "source": [
        "x *= 2\n",
        "x"
      ],
      "execution_count": null,
      "outputs": [
        {
          "output_type": "execute_result",
          "data": {
            "text/plain": [
              "4"
            ]
          },
          "metadata": {},
          "execution_count": 34
        }
      ]
    },
    {
      "cell_type": "code",
      "metadata": {
        "id": "SpsHApqmnFpo",
        "colab": {
          "base_uri": "https://localhost:8080/"
        },
        "outputId": "6943868e-542b-4e89-b57e-a35b81895f4f"
      },
      "source": [
        "x /= 2\n",
        "x"
      ],
      "execution_count": null,
      "outputs": [
        {
          "output_type": "execute_result",
          "data": {
            "text/plain": [
              "2.0"
            ]
          },
          "metadata": {},
          "execution_count": 35
        }
      ]
    },
    {
      "cell_type": "code",
      "metadata": {
        "id": "rVJ4VsI-nLMW",
        "colab": {
          "base_uri": "https://localhost:8080/"
        },
        "outputId": "e3c27bfc-3b57-4116-d214-898fd666b520"
      },
      "source": [
        "x %= 2\n",
        "x"
      ],
      "execution_count": null,
      "outputs": [
        {
          "output_type": "execute_result",
          "data": {
            "text/plain": [
              "0.0"
            ]
          },
          "metadata": {},
          "execution_count": 36
        }
      ]
    },
    {
      "cell_type": "code",
      "metadata": {
        "id": "sNT1VsarnOSi",
        "colab": {
          "base_uri": "https://localhost:8080/"
        },
        "outputId": "7a4dd536-92fb-4973-e4e5-e66fc5f64823"
      },
      "source": [
        "x = 5\n",
        "x **= 2\n",
        "x"
      ],
      "execution_count": null,
      "outputs": [
        {
          "output_type": "execute_result",
          "data": {
            "text/plain": [
              "25"
            ]
          },
          "metadata": {},
          "execution_count": 37
        }
      ]
    },
    {
      "cell_type": "code",
      "metadata": {
        "id": "gLhqQMjPnQwc",
        "colab": {
          "base_uri": "https://localhost:8080/"
        },
        "outputId": "4d1866d9-7994-4deb-d454-db70fa7646e0"
      },
      "source": [
        "x //= 3\n",
        "x"
      ],
      "execution_count": null,
      "outputs": [
        {
          "output_type": "execute_result",
          "data": {
            "text/plain": [
              "8"
            ]
          },
          "metadata": {},
          "execution_count": 38
        }
      ]
    },
    {
      "cell_type": "markdown",
      "metadata": {
        "id": "cuioIYnLfkvq"
      },
      "source": [
        "### Strings"
      ]
    },
    {
      "cell_type": "markdown",
      "metadata": {
        "id": "R4yDjahBfkvu"
      },
      "source": [
        "- Podem ser expressas entre apóstrofos (' ...') ou entre aspas (\" ... \")."
      ]
    },
    {
      "cell_type": "code",
      "metadata": {
        "id": "rw_jvrPcfkvu",
        "colab": {
          "base_uri": "https://localhost:8080/",
          "height": 35
        },
        "outputId": "beeb65d7-9a0d-4b19-e261-544d2df63c08"
      },
      "source": [
        "'maravilha'"
      ],
      "execution_count": null,
      "outputs": [
        {
          "output_type": "execute_result",
          "data": {
            "application/vnd.google.colaboratory.intrinsic+json": {
              "type": "string"
            },
            "text/plain": [
              "'maravilha'"
            ]
          },
          "metadata": {},
          "execution_count": 39
        }
      ]
    },
    {
      "cell_type": "code",
      "metadata": {
        "id": "1WCmcUdzfkv2",
        "colab": {
          "base_uri": "https://localhost:8080/",
          "height": 35
        },
        "outputId": "edb9cfcc-7d2f-4a0a-f65e-d8356017081a"
      },
      "source": [
        "'Mc Donald\\'s'"
      ],
      "execution_count": null,
      "outputs": [
        {
          "output_type": "execute_result",
          "data": {
            "application/vnd.google.colaboratory.intrinsic+json": {
              "type": "string"
            },
            "text/plain": [
              "\"Mc Donald's\""
            ]
          },
          "metadata": {},
          "execution_count": 40
        }
      ]
    },
    {
      "cell_type": "code",
      "metadata": {
        "id": "yXZJPbH4fkv-",
        "colab": {
          "base_uri": "https://localhost:8080/",
          "height": 35
        },
        "outputId": "44ae71e4-0519-45c0-c741-c5f319b0976c"
      },
      "source": [
        "\"Mc Donald's\""
      ],
      "execution_count": null,
      "outputs": [
        {
          "output_type": "execute_result",
          "data": {
            "application/vnd.google.colaboratory.intrinsic+json": {
              "type": "string"
            },
            "text/plain": [
              "\"Mc Donald's\""
            ]
          },
          "metadata": {},
          "execution_count": 41
        }
      ]
    },
    {
      "cell_type": "code",
      "metadata": {
        "id": "moyB6KCPfkwI",
        "colab": {
          "base_uri": "https://localhost:8080/",
          "height": 35
        },
        "outputId": "4e2a1c13-cb57-4e77-9f8d-1892c1b7688e"
      },
      "source": [
        "'\"Sim\", disse a mulher.'"
      ],
      "execution_count": null,
      "outputs": [
        {
          "output_type": "execute_result",
          "data": {
            "application/vnd.google.colaboratory.intrinsic+json": {
              "type": "string"
            },
            "text/plain": [
              "'\"Sim\", disse a mocinha.'"
            ]
          },
          "metadata": {},
          "execution_count": 42
        }
      ]
    },
    {
      "cell_type": "code",
      "metadata": {
        "id": "ai26sAMYfkwO",
        "colab": {
          "base_uri": "https://localhost:8080/",
          "height": 35
        },
        "outputId": "6096f2eb-6b74-40b8-a60f-28714f64f96e"
      },
      "source": [
        "\"'Sim', disse a mulher.\""
      ],
      "execution_count": null,
      "outputs": [
        {
          "output_type": "execute_result",
          "data": {
            "application/vnd.google.colaboratory.intrinsic+json": {
              "type": "string"
            },
            "text/plain": [
              "\"'Sim', disse a mocinha.\""
            ]
          },
          "metadata": {},
          "execution_count": 43
        }
      ]
    },
    {
      "cell_type": "markdown",
      "metadata": {
        "id": "j55v9BqpfkwY"
      },
      "source": [
        "- A função ** print( ) ** produz uma saída melhor formatada:"
      ]
    },
    {
      "cell_type": "code",
      "metadata": {
        "id": "W8pxZ8U2fkwY",
        "colab": {
          "base_uri": "https://localhost:8080/",
          "height": 35
        },
        "outputId": "9b9540ab-bc7b-436c-ffa0-03dd378ca7e0"
      },
      "source": [
        "'Mc Donald\\'s'"
      ],
      "execution_count": null,
      "outputs": [
        {
          "output_type": "execute_result",
          "data": {
            "application/vnd.google.colaboratory.intrinsic+json": {
              "type": "string"
            },
            "text/plain": [
              "\"Mc Donald's\""
            ]
          },
          "metadata": {},
          "execution_count": 44
        }
      ]
    },
    {
      "cell_type": "code",
      "metadata": {
        "id": "riTAH4CTfkwc",
        "colab": {
          "base_uri": "https://localhost:8080/"
        },
        "outputId": "dfb10841-0cdc-42a7-ffdb-a29c567f87c9"
      },
      "source": [
        "print('Mc Donald\\'s')"
      ],
      "execution_count": null,
      "outputs": [
        {
          "output_type": "stream",
          "name": "stdout",
          "text": [
            "Mc Donald's\n"
          ]
        }
      ]
    },
    {
      "cell_type": "code",
      "metadata": {
        "id": "9cqfd9ixfkwi"
      },
      "source": [
        "s = 'Primeira linha. \\n Segunda linha' # \\n indica nova linha\n",
        "s"
      ],
      "execution_count": null,
      "outputs": []
    },
    {
      "cell_type": "code",
      "metadata": {
        "id": "en58wS79fkwo",
        "colab": {
          "base_uri": "https://localhost:8080/"
        },
        "outputId": "d9c7956a-7696-41db-e951-5cb5b5a3b6fa"
      },
      "source": [
        "print(s)"
      ],
      "execution_count": null,
      "outputs": [
        {
          "output_type": "stream",
          "name": "stdout",
          "text": [
            "Primeira linha. \n",
            "Segunda linha\n"
          ]
        }
      ]
    },
    {
      "cell_type": "code",
      "metadata": {
        "id": "UIK_X23Efkwq",
        "colab": {
          "base_uri": "https://localhost:8080/"
        },
        "outputId": "23bddcd0-447d-4bf9-dfc4-c540e5f46850"
      },
      "source": [
        "print('c:\\Minha \\nova pasta')        # \\n indica nova linha"
      ],
      "execution_count": null,
      "outputs": [
        {
          "output_type": "stream",
          "name": "stdout",
          "text": [
            "c:\\Minha \n",
            "ova pasta\n"
          ]
        }
      ]
    },
    {
      "cell_type": "markdown",
      "metadata": {
        "id": "FefjsZ6Tfkwu"
      },
      "source": [
        "- Caso não se deseje que os caracteres iniciados por \\ sejam interpretados\n",
        "como caracteres especiais, pode-se adicionar um ** r ** antes da string "
      ]
    },
    {
      "cell_type": "code",
      "metadata": {
        "id": "FsDGb8ZVfkwy",
        "colab": {
          "base_uri": "https://localhost:8080/"
        },
        "outputId": "b65693db-0273-4385-f13e-27eac260e823"
      },
      "source": [
        "print(r'c:\\Minha \\nova pasta') "
      ],
      "execution_count": null,
      "outputs": [
        {
          "output_type": "stream",
          "name": "stdout",
          "text": [
            "c:\\Minha \\nova pasta\n"
          ]
        }
      ]
    },
    {
      "cell_type": "markdown",
      "metadata": {
        "id": "YCgphNFJfkw2"
      },
      "source": [
        "- Strings podem ocupar várias linhas. Neste caso, pode-se usar aspas triplas ou apóstrofos triplos."
      ]
    },
    {
      "cell_type": "code",
      "metadata": {
        "id": "ti4VMgZ9fkw4",
        "colab": {
          "base_uri": "https://localhost:8080/"
        },
        "outputId": "25c8e9b9-ab0f-4a5d-b85d-ccce1d2e2ae4"
      },
      "source": [
        "print( '''\n",
        "primeira linha\n",
        "segunda linha\n",
        "terceira linha\n",
        "''')"
      ],
      "execution_count": null,
      "outputs": [
        {
          "output_type": "stream",
          "name": "stdout",
          "text": [
            "\n",
            "primeira linha\n",
            "segunda linha\n",
            "terceira linha\n",
            "\n"
          ]
        }
      ]
    },
    {
      "cell_type": "markdown",
      "metadata": {
        "id": "sVMycQAsfkw6"
      },
      "source": [
        "- Um 'Final de Linha' é inserido automaticamente na string. \n",
        "Para evitar isso, pode-se usar \\ ao final da linha."
      ]
    },
    {
      "cell_type": "code",
      "metadata": {
        "id": "lIwT8kcbfkw-",
        "colab": {
          "base_uri": "https://localhost:8080/"
        },
        "outputId": "e0f5f2be-0503-464c-e8f1-d9a048d8fc23"
      },
      "source": [
        "print( '''\\\n",
        "primeira linha\n",
        "segunda linha\n",
        "terceira linha\\\n",
        "''')"
      ],
      "execution_count": null,
      "outputs": [
        {
          "output_type": "stream",
          "name": "stdout",
          "text": [
            "primeira linha\n",
            "segunda linha\n",
            "terceira linha\n"
          ]
        }
      ]
    },
    {
      "cell_type": "markdown",
      "metadata": {
        "id": "HKvTU3cnfkxA"
      },
      "source": [
        "- Strings podem ser concatenadas com + e repetidas com *"
      ]
    },
    {
      "cell_type": "code",
      "metadata": {
        "id": "e0ovqbX5fkxA",
        "colab": {
          "base_uri": "https://localhost:8080/",
          "height": 35
        },
        "outputId": "df84b5ac-258a-4d37-c9a4-6ffcaa288a6d"
      },
      "source": [
        "'abra' + \"cadabra\""
      ],
      "execution_count": null,
      "outputs": [
        {
          "output_type": "execute_result",
          "data": {
            "application/vnd.google.colaboratory.intrinsic+json": {
              "type": "string"
            },
            "text/plain": [
              "'abracadabra'"
            ]
          },
          "metadata": {},
          "execution_count": 52
        }
      ]
    },
    {
      "cell_type": "code",
      "metadata": {
        "id": "W5douWUifkxC",
        "colab": {
          "base_uri": "https://localhost:8080/",
          "height": 35
        },
        "outputId": "f465c405-42ea-44d1-d31e-b4d813f1e6f9"
      },
      "source": [
        "'abra' \"cadabra\"    "
      ],
      "execution_count": null,
      "outputs": [
        {
          "output_type": "execute_result",
          "data": {
            "application/vnd.google.colaboratory.intrinsic+json": {
              "type": "string"
            },
            "text/plain": [
              "'abracadabra'"
            ]
          },
          "metadata": {},
          "execution_count": 53
        }
      ]
    },
    {
      "cell_type": "code",
      "metadata": {
        "id": "0BlJJlwsfkxO",
        "colab": {
          "base_uri": "https://localhost:8080/",
          "height": 35
        },
        "outputId": "a5fb2c45-2496-4f0c-ac10-6a60165e83e6"
      },
      "source": [
        "texto = ('este é um texto realmente'\n",
        "         'que precisa ser dividido em duas linhas'\n",
        "         'mas que deve ser ligado')\n",
        "texto\n"
      ],
      "execution_count": null,
      "outputs": [
        {
          "output_type": "execute_result",
          "data": {
            "application/vnd.google.colaboratory.intrinsic+json": {
              "type": "string"
            },
            "text/plain": [
              "'este é um texto realmenteque precisa ser dividido em duas linhasmas que deve ser ligado'"
            ]
          },
          "metadata": {},
          "execution_count": 54
        }
      ]
    },
    {
      "cell_type": "code",
      "metadata": {
        "id": "K-JT4o2FfkxS",
        "colab": {
          "base_uri": "https://localhost:8080/",
          "height": 35
        },
        "outputId": "9b2323bc-5606-4077-8783-12e7707a673c"
      },
      "source": [
        "3 * 'muito' + 'bom'"
      ],
      "execution_count": null,
      "outputs": [
        {
          "output_type": "execute_result",
          "data": {
            "application/vnd.google.colaboratory.intrinsic+json": {
              "type": "string"
            },
            "text/plain": [
              "'muitomuitomuitobom'"
            ]
          },
          "metadata": {},
          "execution_count": 55
        }
      ]
    },
    {
      "cell_type": "code",
      "metadata": {
        "id": "H-YobeHvfkxa",
        "colab": {
          "base_uri": "https://localhost:8080/",
          "height": 35
        },
        "outputId": "b1164ab3-22fc-4038-e5e9-f50421eb64bb"
      },
      "source": [
        "('muito' * 3) + 'bom'"
      ],
      "execution_count": null,
      "outputs": [
        {
          "output_type": "execute_result",
          "data": {
            "application/vnd.google.colaboratory.intrinsic+json": {
              "type": "string"
            },
            "text/plain": [
              "'muitomuitomuitobom'"
            ]
          },
          "metadata": {},
          "execution_count": 57
        }
      ]
    },
    {
      "cell_type": "code",
      "metadata": {
        "id": "Ldd0SVJUfkxo",
        "colab": {
          "base_uri": "https://localhost:8080/",
          "height": 35
        },
        "outputId": "04e328b2-2738-4ec8-d06e-5ecfee40bc9f"
      },
      "source": [
        "prefixo = 'Py'\n",
        "prefixo + 'thon'"
      ],
      "execution_count": null,
      "outputs": [
        {
          "output_type": "execute_result",
          "data": {
            "application/vnd.google.colaboratory.intrinsic+json": {
              "type": "string"
            },
            "text/plain": [
              "'Python'"
            ]
          },
          "metadata": {},
          "execution_count": 61
        }
      ]
    },
    {
      "cell_type": "markdown",
      "metadata": {
        "id": "SABd_u4rfkxs"
      },
      "source": [
        "- Strings são indexadas a partir da posição 0"
      ]
    },
    {
      "cell_type": "code",
      "metadata": {
        "id": "3DrmNEQ_fkxs"
      },
      "source": [
        "beeth = \"Minha Amada Imortal\""
      ],
      "execution_count": null,
      "outputs": []
    },
    {
      "cell_type": "code",
      "metadata": {
        "id": "Bf1wqPmvfkxw",
        "colab": {
          "base_uri": "https://localhost:8080/",
          "height": 35
        },
        "outputId": "29d03e4e-16c7-4c4e-abba-8c34d001d3b8"
      },
      "source": [
        "beeth[0]"
      ],
      "execution_count": null,
      "outputs": [
        {
          "output_type": "execute_result",
          "data": {
            "application/vnd.google.colaboratory.intrinsic+json": {
              "type": "string"
            },
            "text/plain": [
              "'M'"
            ]
          },
          "metadata": {},
          "execution_count": 63
        }
      ]
    },
    {
      "cell_type": "code",
      "metadata": {
        "id": "yG1Grssqfkxy",
        "colab": {
          "base_uri": "https://localhost:8080/",
          "height": 35
        },
        "outputId": "14e8d336-1e9b-404d-e94c-55ee2b6f2df8"
      },
      "source": [
        "beeth[7]"
      ],
      "execution_count": null,
      "outputs": [
        {
          "output_type": "execute_result",
          "data": {
            "application/vnd.google.colaboratory.intrinsic+json": {
              "type": "string"
            },
            "text/plain": [
              "'m'"
            ]
          },
          "metadata": {},
          "execution_count": 64
        }
      ]
    },
    {
      "cell_type": "code",
      "metadata": {
        "id": "DifodQbSfkx2",
        "colab": {
          "base_uri": "https://localhost:8080/",
          "height": 35
        },
        "outputId": "994bde58-92d0-44a8-851b-3957e5ad900c"
      },
      "source": [
        "beeth[-2]"
      ],
      "execution_count": null,
      "outputs": [
        {
          "output_type": "execute_result",
          "data": {
            "application/vnd.google.colaboratory.intrinsic+json": {
              "type": "string"
            },
            "text/plain": [
              "'a'"
            ]
          },
          "metadata": {},
          "execution_count": 65
        }
      ]
    },
    {
      "cell_type": "code",
      "metadata": {
        "id": "bDtoNAJUfkx4",
        "colab": {
          "base_uri": "https://localhost:8080/",
          "height": 35
        },
        "outputId": "187e548a-8939-477e-8fbe-8de7a11c08ac"
      },
      "source": [
        "beeth[-7]"
      ],
      "execution_count": null,
      "outputs": [
        {
          "output_type": "execute_result",
          "data": {
            "application/vnd.google.colaboratory.intrinsic+json": {
              "type": "string"
            },
            "text/plain": [
              "'I'"
            ]
          },
          "metadata": {},
          "execution_count": 66
        }
      ]
    },
    {
      "cell_type": "markdown",
      "metadata": {
        "id": "NG0eu690fkx6"
      },
      "source": [
        "- Pode-se extrair partes de uma string"
      ]
    },
    {
      "cell_type": "code",
      "metadata": {
        "id": "o8LibOf_fkx8",
        "colab": {
          "base_uri": "https://localhost:8080/",
          "height": 35
        },
        "outputId": "59ddefec-c213-4be8-87eb-4ba585f530b8"
      },
      "source": [
        "beeth[6:11]"
      ],
      "execution_count": null,
      "outputs": [
        {
          "output_type": "execute_result",
          "data": {
            "application/vnd.google.colaboratory.intrinsic+json": {
              "type": "string"
            },
            "text/plain": [
              "'Amada'"
            ]
          },
          "metadata": {},
          "execution_count": 67
        }
      ]
    },
    {
      "cell_type": "code",
      "metadata": {
        "id": "l7XySb1Pfkx-",
        "colab": {
          "base_uri": "https://localhost:8080/",
          "height": 35
        },
        "outputId": "8fc7b30c-fc29-44cd-cd63-bd6b6d0f6a11"
      },
      "source": [
        "beeth[:5]"
      ],
      "execution_count": null,
      "outputs": [
        {
          "output_type": "execute_result",
          "data": {
            "application/vnd.google.colaboratory.intrinsic+json": {
              "type": "string"
            },
            "text/plain": [
              "'Minha'"
            ]
          },
          "metadata": {},
          "execution_count": 68
        }
      ]
    },
    {
      "cell_type": "code",
      "metadata": {
        "id": "4aS7Jd3zfkyA",
        "colab": {
          "base_uri": "https://localhost:8080/",
          "height": 35
        },
        "outputId": "03180d8c-cea5-4275-daac-aff5c04ebe1e"
      },
      "source": [
        "beeth[12:]"
      ],
      "execution_count": null,
      "outputs": [
        {
          "output_type": "execute_result",
          "data": {
            "application/vnd.google.colaboratory.intrinsic+json": {
              "type": "string"
            },
            "text/plain": [
              "'Imortal'"
            ]
          },
          "metadata": {},
          "execution_count": 69
        }
      ]
    },
    {
      "cell_type": "code",
      "metadata": {
        "id": "S4wgHV2yfkyC",
        "colab": {
          "base_uri": "https://localhost:8080/",
          "height": 35
        },
        "outputId": "13871a8c-9f3f-43e1-a3d2-aa16783f910b"
      },
      "source": [
        "beeth[-7:]"
      ],
      "execution_count": null,
      "outputs": [
        {
          "output_type": "execute_result",
          "data": {
            "application/vnd.google.colaboratory.intrinsic+json": {
              "type": "string"
            },
            "text/plain": [
              "'Imortal'"
            ]
          },
          "metadata": {},
          "execution_count": 70
        }
      ]
    },
    {
      "cell_type": "code",
      "metadata": {
        "id": "FmfWZGlYfkyK",
        "colab": {
          "base_uri": "https://localhost:8080/",
          "height": 163
        },
        "outputId": "29f3e731-c1bd-40df-e819-4983d2075dff"
      },
      "source": [
        "beeth[20]"
      ],
      "execution_count": null,
      "outputs": [
        {
          "output_type": "error",
          "ename": "IndexError",
          "evalue": "ignored",
          "traceback": [
            "\u001b[0;31m---------------------------------------------------------------------------\u001b[0m",
            "\u001b[0;31mIndexError\u001b[0m                                Traceback (most recent call last)",
            "\u001b[0;32m<ipython-input-71-f1bff1297a01>\u001b[0m in \u001b[0;36m<module>\u001b[0;34m()\u001b[0m\n\u001b[0;32m----> 1\u001b[0;31m \u001b[0mbeeth\u001b[0m\u001b[0;34m[\u001b[0m\u001b[0;36m20\u001b[0m\u001b[0;34m]\u001b[0m\u001b[0;34m\u001b[0m\u001b[0;34m\u001b[0m\u001b[0m\n\u001b[0m",
            "\u001b[0;31mIndexError\u001b[0m: string index out of range"
          ]
        }
      ]
    },
    {
      "cell_type": "code",
      "metadata": {
        "id": "eJPVxhDAfkyM",
        "colab": {
          "base_uri": "https://localhost:8080/",
          "height": 35
        },
        "outputId": "30b75e0f-ef16-4b8b-bb51-2422ab973ede"
      },
      "source": [
        "beeth[12:20]"
      ],
      "execution_count": null,
      "outputs": [
        {
          "output_type": "execute_result",
          "data": {
            "application/vnd.google.colaboratory.intrinsic+json": {
              "type": "string"
            },
            "text/plain": [
              "'Imortal'"
            ]
          },
          "metadata": {},
          "execution_count": 72
        }
      ]
    },
    {
      "cell_type": "code",
      "metadata": {
        "id": "sZ2EROILfkyQ",
        "colab": {
          "base_uri": "https://localhost:8080/",
          "height": 35
        },
        "outputId": "8e818037-d71d-4654-c97c-8c79721c21ef"
      },
      "source": [
        "beeth[12:50]"
      ],
      "execution_count": null,
      "outputs": [
        {
          "output_type": "execute_result",
          "data": {
            "application/vnd.google.colaboratory.intrinsic+json": {
              "type": "string"
            },
            "text/plain": [
              "'Imortal'"
            ]
          },
          "metadata": {},
          "execution_count": 73
        }
      ]
    },
    {
      "cell_type": "code",
      "metadata": {
        "id": "lL_B-O-ZfkyS",
        "colab": {
          "base_uri": "https://localhost:8080/",
          "height": 35
        },
        "outputId": "6e0c05e8-b041-42bb-90b5-4af0323fe6c6"
      },
      "source": [
        "beeth[50:]"
      ],
      "execution_count": null,
      "outputs": [
        {
          "output_type": "execute_result",
          "data": {
            "application/vnd.google.colaboratory.intrinsic+json": {
              "type": "string"
            },
            "text/plain": [
              "''"
            ]
          },
          "metadata": {},
          "execution_count": 74
        }
      ]
    },
    {
      "cell_type": "markdown",
      "metadata": {
        "id": "5GmxEUs5fkyU"
      },
      "source": [
        "- Strings não pode ser alteradas"
      ]
    },
    {
      "cell_type": "code",
      "metadata": {
        "id": "OMTPN3-bfkyU",
        "colab": {
          "base_uri": "https://localhost:8080/",
          "height": 163
        },
        "outputId": "91c69ea4-dcad-48c5-cb9a-87d39b32c4e5"
      },
      "source": [
        "beeth[12] = 'C'"
      ],
      "execution_count": null,
      "outputs": [
        {
          "output_type": "error",
          "ename": "TypeError",
          "evalue": "ignored",
          "traceback": [
            "\u001b[0;31m---------------------------------------------------------------------------\u001b[0m",
            "\u001b[0;31mTypeError\u001b[0m                                 Traceback (most recent call last)",
            "\u001b[0;32m<ipython-input-75-3aa51e366035>\u001b[0m in \u001b[0;36m<module>\u001b[0;34m()\u001b[0m\n\u001b[0;32m----> 1\u001b[0;31m \u001b[0mbeeth\u001b[0m\u001b[0;34m[\u001b[0m\u001b[0;36m12\u001b[0m\u001b[0;34m]\u001b[0m \u001b[0;34m=\u001b[0m \u001b[0;34m'C'\u001b[0m\u001b[0;34m\u001b[0m\u001b[0;34m\u001b[0m\u001b[0m\n\u001b[0m",
            "\u001b[0;31mTypeError\u001b[0m: 'str' object does not support item assignment"
          ]
        }
      ]
    },
    {
      "cell_type": "code",
      "metadata": {
        "id": "Gjh2-_NXfkyW",
        "colab": {
          "base_uri": "https://localhost:8080/",
          "height": 163
        },
        "outputId": "d80c1d20-3d5a-4f4d-8b49-0821ce3350ce"
      },
      "source": [
        "beeth[12:] = 'im'"
      ],
      "execution_count": null,
      "outputs": [
        {
          "output_type": "error",
          "ename": "TypeError",
          "evalue": "ignored",
          "traceback": [
            "\u001b[0;31m---------------------------------------------------------------------------\u001b[0m",
            "\u001b[0;31mTypeError\u001b[0m                                 Traceback (most recent call last)",
            "\u001b[0;32m<ipython-input-76-634f9cf5c9f8>\u001b[0m in \u001b[0;36m<module>\u001b[0;34m()\u001b[0m\n\u001b[0;32m----> 1\u001b[0;31m \u001b[0mbeeth\u001b[0m\u001b[0;34m[\u001b[0m\u001b[0;36m12\u001b[0m\u001b[0;34m:\u001b[0m\u001b[0;34m]\u001b[0m \u001b[0;34m=\u001b[0m \u001b[0;34m'im'\u001b[0m\u001b[0;34m\u001b[0m\u001b[0;34m\u001b[0m\u001b[0m\n\u001b[0m",
            "\u001b[0;31mTypeError\u001b[0m: 'str' object does not support item assignment"
          ]
        }
      ]
    },
    {
      "cell_type": "markdown",
      "metadata": {
        "id": "qm72i490fkyY"
      },
      "source": [
        "A função ** len() ** retorna o comprimento de uma string"
      ]
    },
    {
      "cell_type": "code",
      "metadata": {
        "id": "pQ50WEJGfkya",
        "colab": {
          "base_uri": "https://localhost:8080/"
        },
        "outputId": "0a65ee8e-1adb-4572-b036-727f8166c539"
      },
      "source": [
        "s = len(beeth)\n",
        "s"
      ],
      "execution_count": null,
      "outputs": [
        {
          "output_type": "execute_result",
          "data": {
            "text/plain": [
              "19"
            ]
          },
          "metadata": {},
          "execution_count": 77
        }
      ]
    },
    {
      "cell_type": "markdown",
      "metadata": {
        "id": "2pgtShi8fkyc"
      },
      "source": [
        "### Listas ###"
      ]
    },
    {
      "cell_type": "markdown",
      "metadata": {
        "id": "vcl2jlNgfkyg"
      },
      "source": [
        "- Uma lista de valores pode ser representada por elementos de mesmo tipo ou de\n",
        "diferentes tipos, separados por vírgula e delimitados par colchetes."
      ]
    },
    {
      "cell_type": "code",
      "metadata": {
        "id": "_eqhX8LHfkyi",
        "colab": {
          "base_uri": "https://localhost:8080/"
        },
        "outputId": "2124efe1-29cf-4c35-c200-3e2393ceff7e"
      },
      "source": [
        "pares = [0, 2, 4, 6, 8]\n",
        "pares"
      ],
      "execution_count": null,
      "outputs": [
        {
          "output_type": "execute_result",
          "data": {
            "text/plain": [
              "[0, 2, 4, 6, 8]"
            ]
          },
          "metadata": {},
          "execution_count": 78
        }
      ]
    },
    {
      "cell_type": "markdown",
      "metadata": {
        "id": "_cw9Vu1cfkyk"
      },
      "source": [
        "- Listas também são indexadas"
      ]
    },
    {
      "cell_type": "code",
      "metadata": {
        "id": "Y1vfsHmkfkyk",
        "colab": {
          "base_uri": "https://localhost:8080/"
        },
        "outputId": "6119485f-79c4-4502-ebc6-b79935964c09"
      },
      "source": [
        "pares[0]"
      ],
      "execution_count": null,
      "outputs": [
        {
          "output_type": "execute_result",
          "data": {
            "text/plain": [
              "0"
            ]
          },
          "metadata": {},
          "execution_count": 79
        }
      ]
    },
    {
      "cell_type": "code",
      "metadata": {
        "id": "vEn9cbQJfkyo",
        "colab": {
          "base_uri": "https://localhost:8080/"
        },
        "outputId": "51a685b0-2d5e-4ec5-d4ab-b1c9299b9ca9"
      },
      "source": [
        "pares[3]"
      ],
      "execution_count": null,
      "outputs": [
        {
          "output_type": "execute_result",
          "data": {
            "text/plain": [
              "6"
            ]
          },
          "metadata": {},
          "execution_count": 80
        }
      ]
    },
    {
      "cell_type": "code",
      "metadata": {
        "id": "CQyXNpjtfkyq",
        "colab": {
          "base_uri": "https://localhost:8080/"
        },
        "outputId": "44084077-2f40-4d26-e9d5-26a639a9d83f"
      },
      "source": [
        "pares[-1]"
      ],
      "execution_count": null,
      "outputs": [
        {
          "output_type": "execute_result",
          "data": {
            "text/plain": [
              "8"
            ]
          },
          "metadata": {},
          "execution_count": 81
        }
      ]
    },
    {
      "cell_type": "code",
      "metadata": {
        "id": "0qXMhtJ2fkys",
        "colab": {
          "base_uri": "https://localhost:8080/"
        },
        "outputId": "bacd8e2c-8fc1-4c2d-a22f-5f851a2f9ef5"
      },
      "source": [
        "pares[-3:]       # retorna uma nova lista"
      ],
      "execution_count": null,
      "outputs": [
        {
          "output_type": "execute_result",
          "data": {
            "text/plain": [
              "[4, 6, 8]"
            ]
          },
          "metadata": {},
          "execution_count": 82
        }
      ]
    },
    {
      "cell_type": "code",
      "metadata": {
        "id": "Om6iWe3hxTgY"
      },
      "source": [
        "nova = _"
      ],
      "execution_count": null,
      "outputs": []
    },
    {
      "cell_type": "code",
      "metadata": {
        "id": "eQ40zoxXxarq",
        "colab": {
          "base_uri": "https://localhost:8080/"
        },
        "outputId": "54cbe108-6b4d-4a34-f6b9-49e3729a9d45"
      },
      "source": [
        "nova"
      ],
      "execution_count": null,
      "outputs": [
        {
          "output_type": "execute_result",
          "data": {
            "text/plain": [
              "[4, 6, 8]"
            ]
          },
          "metadata": {},
          "execution_count": 84
        }
      ]
    },
    {
      "cell_type": "code",
      "metadata": {
        "id": "3B5q0wkqfkyu",
        "colab": {
          "base_uri": "https://localhost:8080/"
        },
        "outputId": "e628ff98-359e-4a7f-969b-7375398dcc1f"
      },
      "source": [
        "pares[:]"
      ],
      "execution_count": null,
      "outputs": [
        {
          "output_type": "execute_result",
          "data": {
            "text/plain": [
              "[0, 2, 4, 6, 8]"
            ]
          },
          "metadata": {},
          "execution_count": 85
        }
      ]
    },
    {
      "cell_type": "markdown",
      "metadata": {
        "id": "0WKDbF5sfkyw"
      },
      "source": [
        "- Concatenção de listas"
      ]
    },
    {
      "cell_type": "code",
      "metadata": {
        "id": "fxmCuEVOfkyw",
        "colab": {
          "base_uri": "https://localhost:8080/"
        },
        "outputId": "7d1c2971-030a-4e8f-efb8-4ca60cff1b48"
      },
      "source": [
        "pares + [10, 12, 14, 16, 18]"
      ],
      "execution_count": null,
      "outputs": [
        {
          "output_type": "execute_result",
          "data": {
            "text/plain": [
              "[0, 2, 4, 6, 8, 10, 12, 14, 16, 18]"
            ]
          },
          "metadata": {},
          "execution_count": 86
        }
      ]
    },
    {
      "cell_type": "markdown",
      "metadata": {
        "id": "B8bvWnXDfky0"
      },
      "source": [
        "- Podemos modificar uma lista"
      ]
    },
    {
      "cell_type": "code",
      "metadata": {
        "id": "Kn6LXW2Ufky0"
      },
      "source": [
        "cubos = [1, 8, 27, 65, 125]"
      ],
      "execution_count": null,
      "outputs": []
    },
    {
      "cell_type": "code",
      "metadata": {
        "id": "dehwxqOSfky2"
      },
      "source": [
        "cubos[3] = 64 "
      ],
      "execution_count": null,
      "outputs": []
    },
    {
      "cell_type": "code",
      "metadata": {
        "id": "hZLeBA5dfky4",
        "colab": {
          "base_uri": "https://localhost:8080/"
        },
        "outputId": "18853ced-67f1-4cb9-884f-d1858a56e82c"
      },
      "source": [
        "cubos"
      ],
      "execution_count": null,
      "outputs": [
        {
          "output_type": "execute_result",
          "data": {
            "text/plain": [
              "[1, 8, 27, 64, 125]"
            ]
          },
          "metadata": {},
          "execution_count": 89
        }
      ]
    },
    {
      "cell_type": "markdown",
      "metadata": {
        "id": "us7-D7QUfky6"
      },
      "source": [
        "- Para acrescentar novos elementos a uma lista:"
      ]
    },
    {
      "cell_type": "code",
      "metadata": {
        "id": "7vpaQ28qfky8",
        "colab": {
          "base_uri": "https://localhost:8080/"
        },
        "outputId": "b1049317-1d87-4e1c-c959-741341c6b257"
      },
      "source": [
        "cubos.append(216)\n",
        "cubos.append(7**3)\n",
        "cubos"
      ],
      "execution_count": null,
      "outputs": [
        {
          "output_type": "execute_result",
          "data": {
            "text/plain": [
              "[1, 8, 27, 64, 125, 216, 343]"
            ]
          },
          "metadata": {},
          "execution_count": 90
        }
      ]
    },
    {
      "cell_type": "code",
      "metadata": {
        "id": "oiyuPCG6fky-",
        "colab": {
          "base_uri": "https://localhost:8080/"
        },
        "outputId": "afddbcc4-6b78-4fd0-a7fe-d8fdead80e7f"
      },
      "source": [
        "letras = ['a', 'b', 'c', 'd', 'e', 'f', 'g']\n",
        "letras"
      ],
      "execution_count": null,
      "outputs": [
        {
          "output_type": "execute_result",
          "data": {
            "text/plain": [
              "['a', 'b', 'c', 'd', 'e', 'f', 'g']"
            ]
          },
          "metadata": {},
          "execution_count": 91
        }
      ]
    },
    {
      "cell_type": "code",
      "metadata": {
        "id": "pzsQ6tq_fkzK",
        "colab": {
          "base_uri": "https://localhost:8080/"
        },
        "outputId": "c48c5d28-ff84-433c-db86-b727328be09b"
      },
      "source": [
        "letras[2:5] = ['C', 'D', 'E']\n",
        "letras"
      ],
      "execution_count": null,
      "outputs": [
        {
          "output_type": "execute_result",
          "data": {
            "text/plain": [
              "['a', 'b', 'C', 'D', 'E', 'f', 'g']"
            ]
          },
          "metadata": {},
          "execution_count": 92
        }
      ]
    },
    {
      "cell_type": "code",
      "metadata": {
        "id": "jKnIvldAfkzO",
        "colab": {
          "base_uri": "https://localhost:8080/"
        },
        "outputId": "f0e665ff-dabb-4ead-814c-cca7d28f80c2"
      },
      "source": [
        "letras[2:5] = []\n",
        "letras"
      ],
      "execution_count": null,
      "outputs": [
        {
          "output_type": "execute_result",
          "data": {
            "text/plain": [
              "['a', 'b', 'f', 'g']"
            ]
          },
          "metadata": {},
          "execution_count": 93
        }
      ]
    },
    {
      "cell_type": "code",
      "metadata": {
        "id": "QCkor-_sfkzS",
        "colab": {
          "base_uri": "https://localhost:8080/"
        },
        "outputId": "1dd3069b-9df2-41dc-e3c4-058999121bb7"
      },
      "source": [
        "letras[:] = []\n",
        "letras"
      ],
      "execution_count": null,
      "outputs": [
        {
          "output_type": "execute_result",
          "data": {
            "text/plain": [
              "[]"
            ]
          },
          "metadata": {},
          "execution_count": 94
        }
      ]
    },
    {
      "cell_type": "code",
      "metadata": {
        "id": "wfycozdQfkzW",
        "colab": {
          "base_uri": "https://localhost:8080/"
        },
        "outputId": "e87c6bb0-24c6-46a1-afe8-565e3e42e671"
      },
      "source": [
        "len(letras)"
      ],
      "execution_count": null,
      "outputs": [
        {
          "output_type": "execute_result",
          "data": {
            "text/plain": [
              "0"
            ]
          },
          "metadata": {},
          "execution_count": 95
        }
      ]
    },
    {
      "cell_type": "code",
      "metadata": {
        "id": "4wiTlDgOfkzY",
        "colab": {
          "base_uri": "https://localhost:8080/"
        },
        "outputId": "93fa9dea-7e70-4b2d-d01b-a40b110e7785"
      },
      "source": [
        "len(['a', 'b', 'f', 'g'])"
      ],
      "execution_count": null,
      "outputs": [
        {
          "output_type": "execute_result",
          "data": {
            "text/plain": [
              "4"
            ]
          },
          "metadata": {},
          "execution_count": 96
        }
      ]
    },
    {
      "cell_type": "markdown",
      "metadata": {
        "id": "WqjiAGsyfkzc"
      },
      "source": [
        "- Listas aninhadas (listas de listas)"
      ]
    },
    {
      "cell_type": "code",
      "metadata": {
        "id": "FNoXMDm8fkzg",
        "colab": {
          "base_uri": "https://localhost:8080/"
        },
        "outputId": "a6e0d985-5e87-4db8-fafe-751570d7f9eb"
      },
      "source": [
        "animal = ['gato', 'cão', 'pássaro']\n",
        "nome = ['armani', 'marie', 'feroz']\n",
        "idade = [2, 3, 1]\n",
        "cor = ['branco', 'preto']\n",
        "registro = [[animal, nome, idade], cor]\n",
        "registro"
      ],
      "execution_count": null,
      "outputs": [
        {
          "output_type": "execute_result",
          "data": {
            "text/plain": [
              "[[['gato', 'cão', 'pássaro'], ['armani', 'marie', 'feroz'], [2, 3, 1]],\n",
              " ['branco', 'preto']]"
            ]
          },
          "metadata": {},
          "execution_count": 97
        }
      ]
    },
    {
      "cell_type": "code",
      "metadata": {
        "id": "y2zWn26DBaoM"
      },
      "source": [
        ""
      ],
      "execution_count": null,
      "outputs": []
    },
    {
      "cell_type": "code",
      "metadata": {
        "id": "piVOxiF9fkzk",
        "colab": {
          "base_uri": "https://localhost:8080/"
        },
        "outputId": "698df4f2-f2f2-4592-9896-49fad27e6627"
      },
      "source": [
        "anim_nome = registro[:1]\n",
        "anim_nome"
      ],
      "execution_count": null,
      "outputs": [
        {
          "output_type": "execute_result",
          "data": {
            "text/plain": [
              "[[['gato', 'cão', 'pássaro'], ['armani', 'marie', 'feroz'], [2, 3, 1]]]"
            ]
          },
          "metadata": {},
          "execution_count": 98
        }
      ]
    },
    {
      "cell_type": "code",
      "metadata": {
        "id": "Kx-uulI9fkz0",
        "colab": {
          "base_uri": "https://localhost:8080/"
        },
        "outputId": "65271109-8a88-4d72-90a6-b441e0d6f2a3"
      },
      "source": [
        "registro[0][0]"
      ],
      "execution_count": null,
      "outputs": [
        {
          "output_type": "execute_result",
          "data": {
            "text/plain": [
              "['gato', 'cão', 'pássaro']"
            ]
          },
          "metadata": {},
          "execution_count": 99
        }
      ]
    },
    {
      "cell_type": "code",
      "metadata": {
        "id": "v3D0zpK-fkz4",
        "colab": {
          "base_uri": "https://localhost:8080/",
          "height": 35
        },
        "outputId": "bfa1ed98-9db9-4e57-848e-cf014bbf6eeb"
      },
      "source": [
        "registro[1][0]"
      ],
      "execution_count": null,
      "outputs": [
        {
          "output_type": "execute_result",
          "data": {
            "application/vnd.google.colaboratory.intrinsic+json": {
              "type": "string"
            },
            "text/plain": [
              "'branco'"
            ]
          },
          "metadata": {},
          "execution_count": 100
        }
      ]
    },
    {
      "cell_type": "code",
      "metadata": {
        "id": "xG0AriJMzHcn"
      },
      "source": [
        ""
      ],
      "execution_count": null,
      "outputs": []
    }
  ]
}