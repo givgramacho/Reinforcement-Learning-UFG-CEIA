{
  "nbformat": 4,
  "nbformat_minor": 0,
  "metadata": {
    "colab": {
      "name": "Estrutura de Controle.ipynb",
      "provenance": [],
      "collapsed_sections": []
    },
    "kernelspec": {
      "name": "python3",
      "display_name": "Python 3"
    }
  },
  "cells": [
    {
      "cell_type": "markdown",
      "metadata": {
        "id": "LH_YYCVrqDTC"
      },
      "source": [
        "# Estruturas de Controle"
      ]
    },
    {
      "cell_type": "markdown",
      "metadata": {
        "id": "AJrVhmkcyEX6"
      },
      "source": [
        " ## Enunciados IF \n",
        "  \n",
        "  - Forma geral: ** if ... elif ... elif ... else ... **\n",
        "  - ** elif ** é uma simplificação para ** else if **\n",
        "  - A parte ** else ** é opcional\n",
        "  - Este enunciado substitui os enunciados ** switch ** ou ** case ** de outas \n",
        "  linguagens."
      ]
    },
    {
      "cell_type": "code",
      "metadata": {
        "id": "z_bDlPzlzMKU",
        "colab": {
          "base_uri": "https://localhost:8080/"
        },
        "outputId": "b5eb5c39-43d9-4dc1-c691-1a2a8206ba63"
      },
      "source": [
        "# Exemplo - leitura de inteiros\n",
        "\n",
        "num = int(input(\"Por favor\\, digite um número inteiro: \"))"
      ],
      "execution_count": null,
      "outputs": [
        {
          "name": "stdout",
          "output_type": "stream",
          "text": [
            "Por favor\\, digite um número inteiro: 1\n"
          ]
        }
      ]
    },
    {
      "cell_type": "code",
      "metadata": {
        "id": "7N3rvDPxzd30",
        "colab": {
          "base_uri": "https://localhost:8080/"
        },
        "outputId": "d4ef022d-38da-4286-ae48-3e2b8a49ac55"
      },
      "source": [
        "if num < 0:\n",
        "  num = 0\n",
        "  print('Número negativo convertido para zero')\n",
        "elif num == 0:\n",
        "    print('zero')\n",
        "elif num == 1:\n",
        "    print('Número um')\n",
        "else:\n",
        "    print('mais testes')\n",
        "      \n",
        "      "
      ],
      "execution_count": null,
      "outputs": [
        {
          "output_type": "stream",
          "name": "stdout",
          "text": [
            "Número um\n"
          ]
        }
      ]
    },
    {
      "cell_type": "code",
      "metadata": {
        "id": "w1W130wb6-Va",
        "colab": {
          "base_uri": "https://localhost:8080/"
        },
        "outputId": "3eac429a-8d52-42d7-b241-08bfce01dbe3"
      },
      "source": [
        "num1 = int(input(\"Por favor, digite um número inteiro: \"))\n",
        "num2 = int(input(\"Por favor, digite um número inteiro: \"))\n",
        "op = input(\"Por favor, digite a operação desejada: \")\n",
        "\n",
        "if op == '+':\n",
        "  print('Resultado =', num1 + num2)\n",
        "elif op == '-':\n",
        "  print('Resultado =', num1 - num2)\n",
        "elif op == '*':\n",
        "  print('Resultado =', num1 * num2)\n",
        "elif op == '/':\n",
        "  if num1 == 0:\n",
        "    print('erro')\n",
        "  else:\n",
        "      print('ok')\n",
        "else:\n",
        "    print('operação não reconhecida')\n"
      ],
      "execution_count": null,
      "outputs": [
        {
          "output_type": "stream",
          "name": "stdout",
          "text": [
            "Por favor, digite um número inteiro: 2\n",
            "Por favor, digite um número inteiro: 4\n",
            "Por favor, digite a operação desejada: +\n",
            "Resultado = 6\n"
          ]
        }
      ]
    },
    {
      "cell_type": "markdown",
      "metadata": {
        "id": "SI0CS5x78J72"
      },
      "source": [
        "## Enunciados FOR"
      ]
    },
    {
      "cell_type": "markdown",
      "metadata": {
        "id": "LPf-H7Zc8YKZ"
      },
      "source": [
        "Permite a repetição sobre itens de qualquer sequência (lista ou string)"
      ]
    },
    {
      "cell_type": "code",
      "metadata": {
        "id": "h4tenrC69Zhm",
        "colab": {
          "base_uri": "https://localhost:8080/"
        },
        "outputId": "9698f911-6e97-4fd2-9199-b9a72df0f7c9"
      },
      "source": [
        "palavras = ['gato', 'cachorro', 'elefante']\n",
        "for pal in palavras:\n",
        "  print('comprimento de ',pal, len(pal))"
      ],
      "execution_count": null,
      "outputs": [
        {
          "output_type": "stream",
          "name": "stdout",
          "text": [
            "comprimento de  gato 4\n",
            "comprimento de  cachorro 8\n",
            "comprimento de  elefante 8\n"
          ]
        }
      ]
    },
    {
      "cell_type": "markdown",
      "metadata": {
        "id": "wH11rQC_B-Pf"
      },
      "source": [
        "Se for necessário modificar  a sequência enquanto executa o laço, é recomendável fazer uma cópia dela antes."
      ]
    },
    {
      "cell_type": "code",
      "metadata": {
        "id": "yubXhjFuCO3o",
        "colab": {
          "base_uri": "https://localhost:8080/"
        },
        "outputId": "791db09f-198a-42fe-9e81-bf54aed722b5"
      },
      "source": [
        "palavras = ['gato', 'cachorro', 'elefante']\n",
        "for pal in palavras[:]:\n",
        "  if len(pal) > 6:\n",
        "      palavras.insert(0, pal)\n",
        "  \n",
        "palavras"
      ],
      "execution_count": null,
      "outputs": [
        {
          "output_type": "execute_result",
          "data": {
            "text/plain": [
              "['elefante', 'cachorro', 'gato', 'cachorro', 'elefante']"
            ]
          },
          "metadata": {},
          "execution_count": 6
        }
      ]
    },
    {
      "cell_type": "code",
      "metadata": {
        "id": "MvX9U40WD2rv",
        "colab": {
          "base_uri": "https://localhost:8080/"
        },
        "outputId": "4b8dcf04-9c9c-4d18-f682-e724b1115582"
      },
      "source": [
        "_"
      ],
      "execution_count": null,
      "outputs": [
        {
          "output_type": "execute_result",
          "data": {
            "text/plain": [
              "['elefante', 'cachorro', 'gato', 'cachorro', 'elefante']"
            ]
          },
          "metadata": {},
          "execution_count": 7
        }
      ]
    },
    {
      "cell_type": "markdown",
      "metadata": {
        "id": "bBZ8QhH_FV4p"
      },
      "source": [
        "## Função range( )\n",
        "\n",
        "- Esta função é muito útil quando é necessário iterar sobre uma sequência de números\n",
        "- ** range(N)  ** gera N números começando em 0\n"
      ]
    },
    {
      "cell_type": "code",
      "metadata": {
        "id": "_qv8bBaFF5gP",
        "colab": {
          "base_uri": "https://localhost:8080/"
        },
        "outputId": "dbfe64c3-b8df-4af5-b8f1-1c2ac212c177"
      },
      "source": [
        "for i in range(6):\n",
        "  print(i)"
      ],
      "execution_count": null,
      "outputs": [
        {
          "output_type": "stream",
          "name": "stdout",
          "text": [
            "0\n",
            "1\n",
            "2\n",
            "3\n",
            "4\n",
            "5\n"
          ]
        }
      ]
    },
    {
      "cell_type": "markdown",
      "metadata": {
        "id": "hzwMm1P2GtRF"
      },
      "source": [
        "\n",
        "- Pode-se indicar um ou ponto de início, por meio de um parâmetro adicional"
      ]
    },
    {
      "cell_type": "code",
      "metadata": {
        "id": "-RK1s68xGvfx",
        "colab": {
          "base_uri": "https://localhost:8080/"
        },
        "outputId": "2c8e5d81-1a8c-473a-c95c-92dbabf14023"
      },
      "source": [
        "for i in range(4, 10):\n",
        "  print(i)"
      ],
      "execution_count": null,
      "outputs": [
        {
          "output_type": "stream",
          "name": "stdout",
          "text": [
            "4\n",
            "5\n",
            "6\n",
            "7\n",
            "8\n",
            "9\n"
          ]
        }
      ]
    },
    {
      "cell_type": "markdown",
      "metadata": {
        "id": "h_VD6l72Gv2u"
      },
      "source": [
        "\n",
        "- Também é possível indicar o incremento, utilizando-se um terceiro parâmetro (o qual pode também ser negativo)"
      ]
    },
    {
      "cell_type": "code",
      "metadata": {
        "id": "MBwjBe_iG8oP",
        "colab": {
          "base_uri": "https://localhost:8080/"
        },
        "outputId": "74261dfa-f7fd-48fa-c6c5-06982df7bfb8"
      },
      "source": [
        "for i in range(4, 10, 2):\n",
        "  print(i)"
      ],
      "execution_count": null,
      "outputs": [
        {
          "output_type": "stream",
          "name": "stdout",
          "text": [
            "4\n",
            "6\n",
            "8\n"
          ]
        }
      ]
    },
    {
      "cell_type": "code",
      "metadata": {
        "id": "H7N-9fLKHmJp",
        "colab": {
          "base_uri": "https://localhost:8080/"
        },
        "outputId": "2afaa4d7-3db9-4f22-808b-75b54ae6e6a5"
      },
      "source": [
        "for i in range(-4, -10, -2):\n",
        "  print(i)"
      ],
      "execution_count": null,
      "outputs": [
        {
          "output_type": "stream",
          "name": "stdout",
          "text": [
            "-4\n",
            "-6\n",
            "-8\n"
          ]
        }
      ]
    },
    {
      "cell_type": "code",
      "metadata": {
        "id": "XrmWaBggH7Nj",
        "colab": {
          "base_uri": "https://localhost:8080/"
        },
        "outputId": "4890d8c8-02c8-4241-f637-0611837d6aa6"
      },
      "source": [
        "for i in range(100, 10, -10):\n",
        "  print(i)"
      ],
      "execution_count": null,
      "outputs": [
        {
          "output_type": "stream",
          "name": "stdout",
          "text": [
            "100\n",
            "90\n",
            "80\n",
            "70\n",
            "60\n",
            "50\n",
            "40\n",
            "30\n",
            "20\n"
          ]
        }
      ]
    },
    {
      "cell_type": "markdown",
      "metadata": {
        "id": "CZaRHaFNKBlV"
      },
      "source": [
        "## Enunciado 'while'\n",
        "\n",
        "- Executa uma repetição enquanto a condição for verdadeira.\n",
        "- Qualquer valor inteiro não zero é considerado verdadeiro.\n",
        "- Uma condição pode ser uma string ou uma lista de valores (qualquer sequência): qualquer coisa de comprimento não zero é verdadeiro e qualquer sequência vazia é considerada um valor falso."
      ]
    },
    {
      "cell_type": "code",
      "metadata": {
        "id": "V-spAgk0K321",
        "colab": {
          "base_uri": "https://localhost:8080/"
        },
        "outputId": "5b8ab038-3778-44cb-98d7-2631876cf965"
      },
      "source": [
        "# série de Fibonacci: o próximo número é calculado a partir da soma dos seus\n",
        "# antecessores\n",
        "\n",
        "a, b = 0, 1\n",
        "while b < 10:\n",
        "  print(b)\n",
        "  a, b = b, a+b"
      ],
      "execution_count": null,
      "outputs": [
        {
          "output_type": "stream",
          "name": "stdout",
          "text": [
            "1\n",
            "1\n",
            "2\n",
            "3\n",
            "5\n",
            "8\n"
          ]
        }
      ]
    },
    {
      "cell_type": "markdown",
      "metadata": {
        "id": "dSQmq093Lo3C"
      },
      "source": [
        "- Para evitar que o caracter de **nova linha (\\n)** seja impresso ao final de cada string, pode-se definir o argumento especial **end**, dentro da função **print()**"
      ]
    },
    {
      "cell_type": "code",
      "metadata": {
        "id": "joLjFe2zMCOC",
        "colab": {
          "base_uri": "https://localhost:8080/"
        },
        "outputId": "0436c322-8c84-4e92-daa3-9a1c6de6b66b"
      },
      "source": [
        "a, b = 0, 1\n",
        "while b < 1000:\n",
        "  print(b, end=' # ')\n",
        "  a, b = b, a+b"
      ],
      "execution_count": null,
      "outputs": [
        {
          "output_type": "stream",
          "name": "stdout",
          "text": [
            "1 # 1 # 2 # 3 # 5 # 8 # 13 # 21 # 34 # 55 # 89 # 144 # 233 # 377 # 610 # 987 # "
          ]
        }
      ]
    },
    {
      "cell_type": "code",
      "metadata": {
        "id": "n82fj1F2M-J0",
        "colab": {
          "base_uri": "https://localhost:8080/"
        },
        "outputId": "2cae2cc2-f114-4e7e-8dce-036375b7911a"
      },
      "source": [
        "l = [1, 2, 3]\n",
        "while l:\n",
        "  print(l[0])\n",
        "  l = l[1:len(l)]\n",
        "  \n",
        "  print('Lista vazia: ', l) # verificar identação\n",
        "  \n",
        "  "
      ],
      "execution_count": null,
      "outputs": [
        {
          "output_type": "stream",
          "name": "stdout",
          "text": [
            "1\n",
            "Lista vazia:  [2, 3]\n",
            "2\n",
            "Lista vazia:  [3]\n",
            "3\n",
            "Lista vazia:  []\n"
          ]
        }
      ]
    },
    {
      "cell_type": "markdown",
      "metadata": {
        "id": "izDV4Z8rPC9H"
      },
      "source": [
        "### Exercício: \n",
        "\n",
        "- Construir automaticamente uma string constituída da letra x, seguida de um número inteiro (x1x2x3....x64) e depois imprimi-la, usando os enunciador FOR e depois WHILE"
      ]
    },
    {
      "cell_type": "code",
      "metadata": {
        "id": "nMNpW3inPuYv"
      },
      "source": [
        "# usando FOR\n"
      ],
      "execution_count": null,
      "outputs": []
    },
    {
      "cell_type": "code",
      "metadata": {
        "id": "fxd60wOjPxEs"
      },
      "source": [
        "# usando WHILE"
      ],
      "execution_count": null,
      "outputs": []
    },
    {
      "cell_type": "markdown",
      "metadata": {
        "id": "MbxQusnSJOw-"
      },
      "source": [
        "## Enunciados \"break' e \"continue\" e cláusula \"else\" em laços"
      ]
    },
    {
      "cell_type": "markdown",
      "metadata": {
        "id": "C8TdZQOEJlBy"
      },
      "source": [
        "- O enunciado **break** interrompe o laço mais interno em laços **for** e **while**\n",
        "- Os enunciados **else** são executados após o encerramento do laço, a não ser que este laço seja interrompido por um **break**\n",
        "- O enunciado **continue** continua com a próxima iteração do laço"
      ]
    },
    {
      "cell_type": "code",
      "metadata": {
        "id": "LB5THotSR_aP",
        "colab": {
          "base_uri": "https://localhost:8080/"
        },
        "outputId": "6725baca-3793-4a4f-d317-ff42d7044f7c"
      },
      "source": [
        "for n in range(2, 10):\n",
        "    for x in range(2, n):\n",
        "         print(\"x:\", x, \"n:\", n)\n",
        "         if n % x == 0:\n",
        "             print(n, 'é igual a', x, '*', n//x)\n",
        "             break\n",
        "    else:    # o else pertece ao laço <for> e não ao <if>\n",
        "         # o loop termina sem encontrar um fator\n",
        "         print(n, 'é um número primo')"
      ],
      "execution_count": null,
      "outputs": [
        {
          "output_type": "stream",
          "name": "stdout",
          "text": [
            "2 é um número primo\n",
            "x: 2 n: 3\n",
            "3 é um número primo\n",
            "x: 2 n: 4\n",
            "4 é igual a 2 * 2\n",
            "x: 2 n: 5\n",
            "x: 3 n: 5\n",
            "x: 4 n: 5\n",
            "5 é um número primo\n",
            "x: 2 n: 6\n",
            "6 é igual a 2 * 3\n",
            "x: 2 n: 7\n",
            "x: 3 n: 7\n",
            "x: 4 n: 7\n",
            "x: 5 n: 7\n",
            "x: 6 n: 7\n",
            "7 é um número primo\n",
            "x: 2 n: 8\n",
            "8 é igual a 2 * 4\n",
            "x: 2 n: 9\n",
            "x: 3 n: 9\n",
            "9 é igual a 3 * 3\n"
          ]
        }
      ]
    },
    {
      "cell_type": "markdown",
      "metadata": {
        "id": "EvleM7lhvHIu"
      },
      "source": [
        "**Observação:** quando usada em um laço, a cláusula **else** se comporta como a cláusula **else** de um enunciado **try** (a clásula **else** é executada quando nenhuma excessão ocorre ). Aqui, a clásula **else** é executada quando nenhum **break** ocorre."
      ]
    },
    {
      "cell_type": "markdown",
      "metadata": {
        "id": "xCuIk-7uy4jj"
      },
      "source": [
        "**Compare** o código anterior com o código seguinte."
      ]
    },
    {
      "cell_type": "code",
      "metadata": {
        "id": "yYPoqJvbyigV",
        "colab": {
          "base_uri": "https://localhost:8080/"
        },
        "outputId": "eade40c2-9464-405a-ca42-fc452f532974"
      },
      "source": [
        "for n in range(2, 10):\n",
        "    for x in range(2, n):\n",
        "         print(\"x:\", x, \"n:\", n)\n",
        "         if n % x == 0:\n",
        "             print(n, 'é igual a', x, '*', n//x)\n",
        "             break\n",
        "    print(n, 'é um número primo')"
      ],
      "execution_count": null,
      "outputs": [
        {
          "output_type": "stream",
          "name": "stdout",
          "text": [
            "2 é um número primo\n",
            "x: 2 n: 3\n",
            "3 é um número primo\n",
            "x: 2 n: 4\n",
            "4 é igual a 2 * 2\n",
            "4 é um número primo\n",
            "x: 2 n: 5\n",
            "x: 3 n: 5\n",
            "x: 4 n: 5\n",
            "5 é um número primo\n",
            "x: 2 n: 6\n",
            "6 é igual a 2 * 3\n",
            "6 é um número primo\n",
            "x: 2 n: 7\n",
            "x: 3 n: 7\n",
            "x: 4 n: 7\n",
            "x: 5 n: 7\n",
            "x: 6 n: 7\n",
            "7 é um número primo\n",
            "x: 2 n: 8\n",
            "8 é igual a 2 * 4\n",
            "8 é um número primo\n",
            "x: 2 n: 9\n",
            "x: 3 n: 9\n",
            "9 é igual a 3 * 3\n",
            "9 é um número primo\n"
          ]
        }
      ]
    },
    {
      "cell_type": "code",
      "metadata": {
        "id": "8sa5wBLjttkH",
        "colab": {
          "base_uri": "https://localhost:8080/"
        },
        "outputId": "303e7f25-b665-43e0-840e-76522ee3a841"
      },
      "source": [
        "for n in range(2, 10):\n",
        "  if n % 2 == 0:\n",
        "    print(\"Número par encontrado: \", n)\n",
        "    continue\n",
        "  print(\"Número ímpar encontrado: \", n)"
      ],
      "execution_count": null,
      "outputs": [
        {
          "output_type": "stream",
          "name": "stdout",
          "text": [
            "Número par encontrado:  2\n",
            "Número ímpar encontrado:  3\n",
            "Número par encontrado:  4\n",
            "Número ímpar encontrado:  5\n",
            "Número par encontrado:  6\n",
            "Número ímpar encontrado:  7\n",
            "Número par encontrado:  8\n",
            "Número ímpar encontrado:  9\n"
          ]
        }
      ]
    },
    {
      "cell_type": "markdown",
      "metadata": {
        "id": "pNbfWUvDrGea"
      },
      "source": [
        "## Enunciados \"pass\"\n",
        "\n",
        "- Este enunciado não produz nenhum efeito.\n",
        "- Ele é usado quando a sintaxe exige um comando, mas não se deseja produzir nenhum efeito."
      ]
    },
    {
      "cell_type": "code",
      "metadata": {
        "id": "_rMSnni3zzzM"
      },
      "source": [
        "def soma(x, y):\n",
        "  pass \n",
        "  #return x + y"
      ],
      "execution_count": null,
      "outputs": []
    },
    {
      "cell_type": "code",
      "metadata": {
        "id": "ZgNtkAfNri7e"
      },
      "source": [
        "s = { 'um', 'dois', 'três'}\n",
        "for word in s:\n",
        "  pass"
      ],
      "execution_count": null,
      "outputs": []
    },
    {
      "cell_type": "code",
      "metadata": {
        "id": "xKej76Qi0lyx"
      },
      "source": [
        "def funcao(*args):\n",
        "  pass # Não se esqueça de implementar o código depois"
      ],
      "execution_count": null,
      "outputs": []
    },
    {
      "cell_type": "code",
      "metadata": {
        "id": "gWGK0lfx9e-9"
      },
      "source": [
        ""
      ],
      "execution_count": null,
      "outputs": []
    }
  ]
}