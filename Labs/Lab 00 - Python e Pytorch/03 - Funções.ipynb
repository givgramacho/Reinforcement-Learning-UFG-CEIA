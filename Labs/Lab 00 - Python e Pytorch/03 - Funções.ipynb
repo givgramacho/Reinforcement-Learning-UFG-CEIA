{
  "nbformat": 4,
  "nbformat_minor": 0,
  "metadata": {
    "colab": {
      "name": "Funções.ipynb",
      "provenance": [],
      "collapsed_sections": []
    },
    "kernelspec": {
      "name": "python3",
      "display_name": "Python 3"
    }
  },
  "cells": [
    {
      "cell_type": "markdown",
      "metadata": {
        "id": "1IETxgew128n"
      },
      "source": [
        "# Definindo funções"
      ]
    },
    {
      "cell_type": "code",
      "metadata": {
        "id": "87ydSi-r1_Qt"
      },
      "source": [
        "def fib(n):    #Definição da função que gera a série de Fibonacci\n",
        "  \"\"\"Imprime a série de Fibonacci \n",
        "  \n",
        "     até o número n.\"\"\"\n",
        "  a, b = 0, 1\n",
        "  while a < n:\n",
        "    print(a, end=' ')\n",
        "    a, b = b, a+b\n",
        "  print()"
      ],
      "execution_count": null,
      "outputs": []
    },
    {
      "cell_type": "code",
      "metadata": {
        "id": "49L-8bId2Pmj",
        "colab": {
          "base_uri": "https://localhost:8080/"
        },
        "outputId": "7d88692b-faaf-41d4-9ff0-69462a7898a5"
      },
      "source": [
        "fib(2000)"
      ],
      "execution_count": null,
      "outputs": [
        {
          "output_type": "stream",
          "name": "stdout",
          "text": [
            "0 1 1 2 3 5 8 13 21 34 55 89 144 233 377 610 987 1597 \n"
          ]
        }
      ]
    },
    {
      "cell_type": "markdown",
      "metadata": {
        "id": "QjMFOCVg27KR"
      },
      "source": [
        "- A definição de uma função é iniciada pela palavra-chave **def**\n",
        "- A seguir vem o **nome** da função e a lista de **parâmetros formais** entre parêntesis\n",
        "- Os enunciados que compõem o corpo da função devem vir nas linhas a seguir e devem estar identados.\n",
        "- O primeiro enunciado da função pode ser (é opcional) uma string de documentação da função (**docstring**). As docstrings podem ocupar várias linhas e devem vir entre aspas triplas. Deve ser sempre incluído na definição de funções.\n",
        "- O enunciado **return** é usado para retornar um valor de uma função. Se ele não tiver nenhum argumento, retornará **None**"
      ]
    },
    {
      "cell_type": "code",
      "metadata": {
        "id": "LDRTXjAS-asA",
        "colab": {
          "base_uri": "https://localhost:8080/"
        },
        "outputId": "ff966123-65dd-4cd2-ea69-009f2020e573"
      },
      "source": [
        "print(fib.__doc__)"
      ],
      "execution_count": null,
      "outputs": [
        {
          "output_type": "stream",
          "name": "stdout",
          "text": [
            "Imprime a série de Fibonacci \n",
            "  \n",
            "     até o número n.\n"
          ]
        }
      ]
    },
    {
      "cell_type": "code",
      "metadata": {
        "id": "7vJEFjA2-naw",
        "colab": {
          "base_uri": "https://localhost:8080/"
        },
        "outputId": "9a0afbed-2426-4163-8ba2-5c1183305cca"
      },
      "source": [
        "print(fib(1))"
      ],
      "execution_count": null,
      "outputs": [
        {
          "output_type": "stream",
          "name": "stdout",
          "text": [
            "0 \n",
            "None\n"
          ]
        }
      ]
    },
    {
      "cell_type": "markdown",
      "metadata": {
        "id": "bqbrzlHq47na"
      },
      "source": [
        "**Exercício 1:** criar uma função para imprimir todos os inteiros em um intervado dado"
      ]
    },
    {
      "cell_type": "code",
      "metadata": {
        "id": "KNINhPX_5NjJ"
      },
      "source": [
        ""
      ],
      "execution_count": null,
      "outputs": []
    },
    {
      "cell_type": "markdown",
      "metadata": {
        "id": "Qs6aQt-05ODg"
      },
      "source": [
        "**Exercício 2:** criar uma função para retorna uma lista com todos os inteiros em um intervado dado (usar o método **append**)"
      ]
    },
    {
      "cell_type": "code",
      "metadata": {
        "id": "YOOuIy-o8wgH"
      },
      "source": [
        ""
      ],
      "execution_count": null,
      "outputs": []
    },
    {
      "cell_type": "markdown",
      "metadata": {
        "id": "mnv6Pflm_W2M"
      },
      "source": [
        "## Valores predefinidos de argumentos"
      ]
    },
    {
      "cell_type": "code",
      "metadata": {
        "id": "RabTISGD_jTj"
      },
      "source": [
        "def confirma(mensagem, tentativas=4, msg='Tente novamente!'):\n",
        "    while True:\n",
        "        ok = input(mensagem)\n",
        "        if ok in ('s', 'si', 'sim'): # in: checa se ok está na sequência\n",
        "            return True\n",
        "        if ok in ('n', 'na', 'nao'):\n",
        "            return False\n",
        "        tentativas = tentativas - 1\n",
        "        if tentativas < 0:\n",
        "            raise ValueError('Resposta errada do usuário!')\n",
        "        print(msg)"
      ],
      "execution_count": null,
      "outputs": []
    },
    {
      "cell_type": "markdown",
      "metadata": {
        "id": "tpjBap-zAPXm"
      },
      "source": [
        "Esta função pode ser chamada de quatro formas diferentes:\n",
        "\n",
        "- passando o argumento obrigatório: *confirma('Quer mesmo sair?')*\n",
        "- passando um dos três argumentos opcionais: *confirma('Sobrescrever o arquivo?', 2)*\n",
        "- ou passando todos os argumentos: *confirma('Sobrescrever o arquivo?', 2, 'Digite somente sim ou nao')*"
      ]
    },
    {
      "cell_type": "code",
      "metadata": {
        "id": "PwKvx67SARex",
        "colab": {
          "base_uri": "https://localhost:8080/"
        },
        "outputId": "5673e025-ef70-415c-9580-08c8b84f0e10"
      },
      "source": [
        "confirma('Quer mesmo sair?')"
      ],
      "execution_count": null,
      "outputs": [
        {
          "name": "stdout",
          "output_type": "stream",
          "text": [
            "Quer mesmo sair?Sim\n",
            "Tente novamente!\n",
            "Quer mesmo sair?sim\n"
          ]
        },
        {
          "output_type": "execute_result",
          "data": {
            "text/plain": [
              "True"
            ]
          },
          "metadata": {},
          "execution_count": 6
        }
      ]
    },
    {
      "cell_type": "code",
      "metadata": {
        "id": "bsCEusjsBzQk",
        "colab": {
          "base_uri": "https://localhost:8080/"
        },
        "outputId": "10e8ecf6-35a0-4376-c675-e6964e958716"
      },
      "source": [
        "confirma('Sobrescrever o arquivo?', 2)"
      ],
      "execution_count": null,
      "outputs": [
        {
          "name": "stdout",
          "output_type": "stream",
          "text": [
            "Sobrescrever o arquivo?s\n"
          ]
        },
        {
          "output_type": "execute_result",
          "data": {
            "text/plain": [
              "True"
            ]
          },
          "metadata": {},
          "execution_count": 7
        }
      ]
    },
    {
      "cell_type": "code",
      "metadata": {
        "id": "0xkdQlcOB4d2",
        "colab": {
          "base_uri": "https://localhost:8080/"
        },
        "outputId": "a28b4fae-da3d-4172-9c1b-7a57649411db"
      },
      "source": [
        "confirma('Sobrescrever o arquivo?', 2, 'Digite somente sim ou nao')"
      ],
      "execution_count": null,
      "outputs": [
        {
          "name": "stdout",
          "output_type": "stream",
          "text": [
            "Sobrescrever o arquivo?si\n"
          ]
        },
        {
          "output_type": "execute_result",
          "data": {
            "text/plain": [
              "True"
            ]
          },
          "metadata": {},
          "execution_count": 8
        }
      ]
    },
    {
      "cell_type": "markdown",
      "metadata": {
        "id": "mZ78xk4OCu4r"
      },
      "source": [
        "**Observações : ** \n",
        "- Os valores predefinidos são avaliados no ponto da definição da função.\n",
        "- Os valores predefinidos são avaliados somente uma vez. Isto faz diferença quando se trata de um objeto que pode ser modificado, como listas, dicionários ou instâncias de classes."
      ]
    },
    {
      "cell_type": "code",
      "metadata": {
        "id": "Q3WouBigC7WZ",
        "colab": {
          "base_uri": "https://localhost:8080/"
        },
        "outputId": "79b866b9-6a7b-48e5-fcb5-24492d7db562"
      },
      "source": [
        "x = 1\n",
        "\n",
        "def f(n=x):\n",
        "  print(n)\n",
        "  \n",
        "x +=2\n",
        "\n",
        "f()\n",
        "print('valor de x:', x)"
      ],
      "execution_count": null,
      "outputs": [
        {
          "output_type": "stream",
          "name": "stdout",
          "text": [
            "1\n",
            "valor de x: 3\n"
          ]
        }
      ]
    },
    {
      "cell_type": "code",
      "metadata": {
        "id": "-st9TNBEESie"
      },
      "source": [
        "def f(a, L=[]): # L recebe o valor [] somente na definição\n",
        "  L.append(a)   # o valor de L é alterado\n",
        "  return(L)"
      ],
      "execution_count": null,
      "outputs": []
    },
    {
      "cell_type": "code",
      "metadata": {
        "id": "fxIauzpUEcmT",
        "colab": {
          "base_uri": "https://localhost:8080/"
        },
        "outputId": "b0d511bd-8571-4158-eabf-da3d48fd470a"
      },
      "source": [
        "print(f(1))"
      ],
      "execution_count": null,
      "outputs": [
        {
          "output_type": "stream",
          "name": "stdout",
          "text": [
            "[1]\n"
          ]
        }
      ]
    },
    {
      "cell_type": "code",
      "metadata": {
        "id": "iwleeSzSEfPV",
        "colab": {
          "base_uri": "https://localhost:8080/"
        },
        "outputId": "13f980c4-d504-447f-ea1e-72ab1aeb3efb"
      },
      "source": [
        "print(f(2))"
      ],
      "execution_count": null,
      "outputs": [
        {
          "output_type": "stream",
          "name": "stdout",
          "text": [
            "[1, 2]\n"
          ]
        }
      ]
    },
    {
      "cell_type": "markdown",
      "metadata": {
        "id": "COlXiJw_FPnD"
      },
      "source": [
        ""
      ]
    },
    {
      "cell_type": "code",
      "metadata": {
        "id": "RQ-Ig1BYEhWx",
        "colab": {
          "base_uri": "https://localhost:8080/"
        },
        "outputId": "8582b35a-4e6c-4ffb-c5de-17f2b6addf80"
      },
      "source": [
        "print(f(3))"
      ],
      "execution_count": null,
      "outputs": [
        {
          "output_type": "stream",
          "name": "stdout",
          "text": [
            "[1, 2, 3]\n"
          ]
        }
      ]
    },
    {
      "cell_type": "markdown",
      "metadata": {
        "id": "o_-rAZBiFTmh"
      },
      "source": [
        "Caso não se deseje compartilhar o valor de L entre as diversas chamadas da função:"
      ]
    },
    {
      "cell_type": "code",
      "metadata": {
        "id": "WYKnWF8ZFjJ2"
      },
      "source": [
        "def f(a, L=None):\n",
        "    if L is None:\n",
        "        L = []\n",
        "    L.append(a)\n",
        "    return L"
      ],
      "execution_count": null,
      "outputs": []
    },
    {
      "cell_type": "code",
      "metadata": {
        "id": "1lkJKL0JFpvS",
        "colab": {
          "base_uri": "https://localhost:8080/"
        },
        "outputId": "f3a0fa18-764d-4d06-b6ca-2e1e14c17c7d"
      },
      "source": [
        "print(f(1))"
      ],
      "execution_count": null,
      "outputs": [
        {
          "output_type": "stream",
          "name": "stdout",
          "text": [
            "[1]\n"
          ]
        }
      ]
    },
    {
      "cell_type": "markdown",
      "metadata": {
        "id": "CT-OA8edKHJk"
      },
      "source": [
        "##Argumentos chave (*keyword arguments*)"
      ]
    },
    {
      "cell_type": "code",
      "metadata": {
        "id": "5BJo57avKPRD"
      },
      "source": [
        "def aluno(matricula, status='matriculado', entrada='universal', pontos=100):\n",
        "  print('Aluno', status, end=' ')\n",
        "  print('com número ', matricula)\n",
        "  print('Ele obteve ', pontos, 'pontos no ENEM')\n",
        "  print('Foi aprovado por seleção ',entrada)\n",
        "  "
      ],
      "execution_count": null,
      "outputs": []
    },
    {
      "cell_type": "markdown",
      "metadata": {
        "id": "8xkPJYyvOUGa"
      },
      "source": [
        "**Chamada válidas para a função:**"
      ]
    },
    {
      "cell_type": "code",
      "metadata": {
        "id": "8K9jMrssMMeL",
        "colab": {
          "base_uri": "https://localhost:8080/"
        },
        "outputId": "8c5eba40-957b-426b-fa04-448db2fe330b"
      },
      "source": [
        "aluno(3242018)"
      ],
      "execution_count": null,
      "outputs": [
        {
          "output_type": "stream",
          "name": "stdout",
          "text": [
            "Aluno matriculado com número  3242018\n",
            "Ele obteve  100 pontos no ENEM\n",
            "Foi aprovado por seleção  universal\n"
          ]
        }
      ]
    },
    {
      "cell_type": "code",
      "metadata": {
        "id": "B3dJSnBMMycO",
        "colab": {
          "base_uri": "https://localhost:8080/"
        },
        "outputId": "4d73ba11-f149-4752-fa69-5dc4319adf26"
      },
      "source": [
        "aluno(matricula=3242018)"
      ],
      "execution_count": null,
      "outputs": [
        {
          "output_type": "stream",
          "name": "stdout",
          "text": [
            "Aluno matriculado com número  3242018\n",
            "Ele obteve  100 pontos no ENEM\n",
            "Foi aprovado por seleção  universal\n"
          ]
        }
      ]
    },
    {
      "cell_type": "code",
      "metadata": {
        "id": "X-oPNVugM4jZ",
        "colab": {
          "base_uri": "https://localhost:8080/"
        },
        "outputId": "fcf17718-df93-4907-c6ee-1b897ecbd773"
      },
      "source": [
        "aluno(matricula=3242018, entrada='quotas')"
      ],
      "execution_count": null,
      "outputs": [
        {
          "output_type": "stream",
          "name": "stdout",
          "text": [
            "Aluno matriculado com número  3242018\n",
            "Ele obteve  100 pontos no ENEM\n",
            "Foi aprovado por seleção  quotas\n"
          ]
        }
      ]
    },
    {
      "cell_type": "code",
      "metadata": {
        "id": "5e8wTnzAND5d",
        "colab": {
          "base_uri": "https://localhost:8080/"
        },
        "outputId": "cd1710e0-b0ca-47c7-a1d5-3fa985537522"
      },
      "source": [
        "aluno(status='não matriculado', matricula=1242015)"
      ],
      "execution_count": null,
      "outputs": [
        {
          "output_type": "stream",
          "name": "stdout",
          "text": [
            "Aluno não matriculado com número  1242015\n",
            "Ele obteve  100 pontos no ENEM\n",
            "Foi aprovado por seleção  universal\n"
          ]
        }
      ]
    },
    {
      "cell_type": "code",
      "metadata": {
        "id": "cuJq5WnhNk84",
        "colab": {
          "base_uri": "https://localhost:8080/"
        },
        "outputId": "2d53ff13-f030-4a97-c333-09adc9ea9d79"
      },
      "source": [
        "aluno('não matriculado', 'quota', 120)"
      ],
      "execution_count": null,
      "outputs": [
        {
          "output_type": "stream",
          "name": "stdout",
          "text": [
            "Aluno quota com número  não matriculado\n",
            "Ele obteve  100 pontos no ENEM\n",
            "Foi aprovado por seleção  120\n"
          ]
        }
      ]
    },
    {
      "cell_type": "code",
      "metadata": {
        "id": "5J9qMAguNwnS",
        "colab": {
          "base_uri": "https://localhost:8080/"
        },
        "outputId": "162e9705-0519-4e17-f9cb-46411481f3e7"
      },
      "source": [
        "aluno('3452017', status='não matriculado', entrada='quota')"
      ],
      "execution_count": null,
      "outputs": [
        {
          "output_type": "stream",
          "name": "stdout",
          "text": [
            "Aluno não matriculado com número  3452017\n",
            "Ele obteve  100 pontos no ENEM\n",
            "Foi aprovado por seleção  quota\n"
          ]
        }
      ]
    },
    {
      "cell_type": "code",
      "metadata": {
        "id": "1I7n2dVKAKad"
      },
      "source": [
        ""
      ],
      "execution_count": null,
      "outputs": []
    }
  ]
}