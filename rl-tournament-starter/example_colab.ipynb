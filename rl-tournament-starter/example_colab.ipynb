{
  "nbformat": 4,
  "nbformat_minor": 0,
  "metadata": {
    "colab": {
      "name": "example_colab.ipynb",
      "provenance": [],
      "collapsed_sections": [
        "pp87Hqg5J8fN"
      ]
    },
    "kernelspec": {
      "name": "python3",
      "display_name": "Python 3"
    },
    "language_info": {
      "name": "python"
    }
  },
  "cells": [
    {
      "cell_type": "markdown",
      "metadata": {
        "id": "pp87Hqg5J8fN"
      },
      "source": [
        "## Dependencies"
      ]
    },
    {
      "cell_type": "code",
      "metadata": {
        "colab": {
          "base_uri": "https://localhost:8080/"
        },
        "id": "nUP7DnYPIvmX",
        "outputId": "a8273ae1-c202-4f56-9341-ac6b690d7e28"
      },
      "source": [
        "!pip install ceia-soccer-twos"
      ],
      "execution_count": null,
      "outputs": [
        {
          "output_type": "stream",
          "name": "stdout",
          "text": [
            "Collecting ceia-soccer-twos\n",
            "  Downloading ceia_soccer_twos-0.0.5-py3-none-any.whl (8.9 kB)\n",
            "Requirement already satisfied: numpy==1.19.5 in /usr/local/lib/python3.7/dist-packages (from ceia-soccer-twos) (1.19.5)\n",
            "Collecting gym==0.19.0\n",
            "  Downloading gym-0.19.0.tar.gz (1.6 MB)\n",
            "\u001b[K     |████████████████████████████████| 1.6 MB 12.6 MB/s \n",
            "\u001b[?25hCollecting gym-unity==0.27.0\n",
            "  Downloading gym_unity-0.27.0-py3-none-any.whl (5.4 kB)\n",
            "Collecting mlagents==0.27.0\n",
            "  Downloading mlagents-0.27.0-py3-none-any.whl (160 kB)\n",
            "\u001b[K     |████████████████████████████████| 160 kB 79.2 MB/s \n",
            "\u001b[?25hCollecting gdown==3.14.0\n",
            "  Downloading gdown-3.14.0.tar.gz (10 kB)\n",
            "  Installing build dependencies ... \u001b[?25l\u001b[?25hdone\n",
            "  Getting requirements to build wheel ... \u001b[?25l\u001b[?25hdone\n",
            "    Preparing wheel metadata ... \u001b[?25l\u001b[?25hdone\n",
            "Collecting mlagents-envs==0.27.0\n",
            "  Downloading mlagents_envs-0.27.0-py3-none-any.whl (75 kB)\n",
            "\u001b[K     |████████████████████████████████| 75 kB 4.3 MB/s \n",
            "\u001b[?25hRequirement already satisfied: tqdm in /usr/local/lib/python3.7/dist-packages (from gdown==3.14.0->ceia-soccer-twos) (4.62.3)\n",
            "Requirement already satisfied: six in /usr/local/lib/python3.7/dist-packages (from gdown==3.14.0->ceia-soccer-twos) (1.15.0)\n",
            "Requirement already satisfied: requests[socks]>=2.12.0 in /usr/local/lib/python3.7/dist-packages (from gdown==3.14.0->ceia-soccer-twos) (2.23.0)\n",
            "Requirement already satisfied: filelock in /usr/local/lib/python3.7/dist-packages (from gdown==3.14.0->ceia-soccer-twos) (3.0.12)\n",
            "Requirement already satisfied: cloudpickle<1.7.0,>=1.2.0 in /usr/local/lib/python3.7/dist-packages (from gym==0.19.0->ceia-soccer-twos) (1.3.0)\n",
            "Requirement already satisfied: importlib-metadata in /usr/local/lib/python3.7/dist-packages (from mlagents==0.27.0->ceia-soccer-twos) (4.8.1)\n",
            "Collecting cattrs<1.1.0\n",
            "  Downloading cattrs-1.0.0-py2.py3-none-any.whl (14 kB)\n",
            "Requirement already satisfied: Pillow>=4.2.1 in /usr/local/lib/python3.7/dist-packages (from mlagents==0.27.0->ceia-soccer-twos) (7.1.2)\n",
            "Requirement already satisfied: protobuf>=3.6 in /usr/local/lib/python3.7/dist-packages (from mlagents==0.27.0->ceia-soccer-twos) (3.17.3)\n",
            "Requirement already satisfied: pyyaml>=3.1.0 in /usr/local/lib/python3.7/dist-packages (from mlagents==0.27.0->ceia-soccer-twos) (3.13)\n",
            "Collecting torch<1.9.0,>=1.6.0\n",
            "  Downloading torch-1.8.1-cp37-cp37m-manylinux1_x86_64.whl (804.1 MB)\n",
            "\u001b[K     |████████████████████████████████| 804.1 MB 3.2 kB/s \n",
            "\u001b[?25hRequirement already satisfied: grpcio>=1.11.0 in /usr/local/lib/python3.7/dist-packages (from mlagents==0.27.0->ceia-soccer-twos) (1.40.0)\n",
            "Requirement already satisfied: attrs>=19.3.0 in /usr/local/lib/python3.7/dist-packages (from mlagents==0.27.0->ceia-soccer-twos) (21.2.0)\n",
            "Requirement already satisfied: h5py>=2.9.0 in /usr/local/lib/python3.7/dist-packages (from mlagents==0.27.0->ceia-soccer-twos) (3.1.0)\n",
            "Requirement already satisfied: tensorboard>=1.15 in /usr/local/lib/python3.7/dist-packages (from mlagents==0.27.0->ceia-soccer-twos) (2.6.0)\n",
            "Requirement already satisfied: cached-property in /usr/local/lib/python3.7/dist-packages (from h5py>=2.9.0->mlagents==0.27.0->ceia-soccer-twos) (1.5.2)\n",
            "Requirement already satisfied: idna<3,>=2.5 in /usr/local/lib/python3.7/dist-packages (from requests[socks]>=2.12.0->gdown==3.14.0->ceia-soccer-twos) (2.10)\n",
            "Requirement already satisfied: urllib3!=1.25.0,!=1.25.1,<1.26,>=1.21.1 in /usr/local/lib/python3.7/dist-packages (from requests[socks]>=2.12.0->gdown==3.14.0->ceia-soccer-twos) (1.24.3)\n",
            "Requirement already satisfied: certifi>=2017.4.17 in /usr/local/lib/python3.7/dist-packages (from requests[socks]>=2.12.0->gdown==3.14.0->ceia-soccer-twos) (2021.5.30)\n",
            "Requirement already satisfied: chardet<4,>=3.0.2 in /usr/local/lib/python3.7/dist-packages (from requests[socks]>=2.12.0->gdown==3.14.0->ceia-soccer-twos) (3.0.4)\n",
            "Requirement already satisfied: PySocks!=1.5.7,>=1.5.6 in /usr/local/lib/python3.7/dist-packages (from requests[socks]>=2.12.0->gdown==3.14.0->ceia-soccer-twos) (1.7.1)\n",
            "Requirement already satisfied: wheel>=0.26 in /usr/local/lib/python3.7/dist-packages (from tensorboard>=1.15->mlagents==0.27.0->ceia-soccer-twos) (0.37.0)\n",
            "Requirement already satisfied: markdown>=2.6.8 in /usr/local/lib/python3.7/dist-packages (from tensorboard>=1.15->mlagents==0.27.0->ceia-soccer-twos) (3.3.4)\n",
            "Requirement already satisfied: tensorboard-data-server<0.7.0,>=0.6.0 in /usr/local/lib/python3.7/dist-packages (from tensorboard>=1.15->mlagents==0.27.0->ceia-soccer-twos) (0.6.1)\n",
            "Requirement already satisfied: absl-py>=0.4 in /usr/local/lib/python3.7/dist-packages (from tensorboard>=1.15->mlagents==0.27.0->ceia-soccer-twos) (0.12.0)\n",
            "Requirement already satisfied: werkzeug>=0.11.15 in /usr/local/lib/python3.7/dist-packages (from tensorboard>=1.15->mlagents==0.27.0->ceia-soccer-twos) (1.0.1)\n",
            "Requirement already satisfied: setuptools>=41.0.0 in /usr/local/lib/python3.7/dist-packages (from tensorboard>=1.15->mlagents==0.27.0->ceia-soccer-twos) (57.4.0)\n",
            "Requirement already satisfied: tensorboard-plugin-wit>=1.6.0 in /usr/local/lib/python3.7/dist-packages (from tensorboard>=1.15->mlagents==0.27.0->ceia-soccer-twos) (1.8.0)\n",
            "Requirement already satisfied: google-auth<2,>=1.6.3 in /usr/local/lib/python3.7/dist-packages (from tensorboard>=1.15->mlagents==0.27.0->ceia-soccer-twos) (1.35.0)\n",
            "Requirement already satisfied: google-auth-oauthlib<0.5,>=0.4.1 in /usr/local/lib/python3.7/dist-packages (from tensorboard>=1.15->mlagents==0.27.0->ceia-soccer-twos) (0.4.6)\n",
            "Requirement already satisfied: pyasn1-modules>=0.2.1 in /usr/local/lib/python3.7/dist-packages (from google-auth<2,>=1.6.3->tensorboard>=1.15->mlagents==0.27.0->ceia-soccer-twos) (0.2.8)\n",
            "Requirement already satisfied: cachetools<5.0,>=2.0.0 in /usr/local/lib/python3.7/dist-packages (from google-auth<2,>=1.6.3->tensorboard>=1.15->mlagents==0.27.0->ceia-soccer-twos) (4.2.2)\n",
            "Requirement already satisfied: rsa<5,>=3.1.4 in /usr/local/lib/python3.7/dist-packages (from google-auth<2,>=1.6.3->tensorboard>=1.15->mlagents==0.27.0->ceia-soccer-twos) (4.7.2)\n",
            "Requirement already satisfied: requests-oauthlib>=0.7.0 in /usr/local/lib/python3.7/dist-packages (from google-auth-oauthlib<0.5,>=0.4.1->tensorboard>=1.15->mlagents==0.27.0->ceia-soccer-twos) (1.3.0)\n",
            "Requirement already satisfied: pyasn1<0.5.0,>=0.4.6 in /usr/local/lib/python3.7/dist-packages (from pyasn1-modules>=0.2.1->google-auth<2,>=1.6.3->tensorboard>=1.15->mlagents==0.27.0->ceia-soccer-twos) (0.4.8)\n",
            "Requirement already satisfied: oauthlib>=3.0.0 in /usr/local/lib/python3.7/dist-packages (from requests-oauthlib>=0.7.0->google-auth-oauthlib<0.5,>=0.4.1->tensorboard>=1.15->mlagents==0.27.0->ceia-soccer-twos) (3.1.1)\n",
            "Requirement already satisfied: typing-extensions in /usr/local/lib/python3.7/dist-packages (from torch<1.9.0,>=1.6.0->mlagents==0.27.0->ceia-soccer-twos) (3.7.4.3)\n",
            "Requirement already satisfied: zipp>=0.5 in /usr/local/lib/python3.7/dist-packages (from importlib-metadata->mlagents==0.27.0->ceia-soccer-twos) (3.5.0)\n",
            "Building wheels for collected packages: gdown, gym\n",
            "  Building wheel for gdown (PEP 517) ... \u001b[?25l\u001b[?25hdone\n",
            "  Created wheel for gdown: filename=gdown-3.14.0-py3-none-any.whl size=10055 sha256=cc3ccd2649f27937ddd9e841afbc3bc5bc6c69f53804c3de2c3b9b663d6baba8\n",
            "  Stored in directory: /root/.cache/pip/wheels/ee/cf/ac/e3ff09ceeea4bf7ff64b04de426caf3a8d0d1a299346ca54fd\n",
            "  Building wheel for gym (setup.py) ... \u001b[?25l\u001b[?25hdone\n",
            "  Created wheel for gym: filename=gym-0.19.0-py3-none-any.whl size=1663116 sha256=9eb7070652306ca2bdb170d5dd980553008b8468ee9cae221c7c52d74b0be4bf\n",
            "  Stored in directory: /root/.cache/pip/wheels/ef/9d/70/8bea53f7edec2fdb4f98d9d64ac9f11aea95dfcb98099d7712\n",
            "Successfully built gdown gym\n",
            "Installing collected packages: torch, mlagents-envs, gym, cattrs, mlagents, gym-unity, gdown, ceia-soccer-twos\n",
            "  Attempting uninstall: torch\n",
            "    Found existing installation: torch 1.9.0+cu102\n",
            "    Uninstalling torch-1.9.0+cu102:\n",
            "      Successfully uninstalled torch-1.9.0+cu102\n",
            "  Attempting uninstall: gym\n",
            "    Found existing installation: gym 0.17.3\n",
            "    Uninstalling gym-0.17.3:\n",
            "      Successfully uninstalled gym-0.17.3\n",
            "  Attempting uninstall: gdown\n",
            "    Found existing installation: gdown 3.6.4\n",
            "    Uninstalling gdown-3.6.4:\n",
            "      Successfully uninstalled gdown-3.6.4\n",
            "\u001b[31mERROR: pip's dependency resolver does not currently take into account all the packages that are installed. This behaviour is the source of the following dependency conflicts.\n",
            "torchvision 0.10.0+cu102 requires torch==1.9.0, but you have torch 1.8.1 which is incompatible.\n",
            "torchtext 0.10.0 requires torch==1.9.0, but you have torch 1.8.1 which is incompatible.\u001b[0m\n",
            "Successfully installed cattrs-1.0.0 ceia-soccer-twos-0.0.5 gdown-3.14.0 gym-0.19.0 gym-unity-0.27.0 mlagents-0.27.0 mlagents-envs-0.27.0 torch-1.8.1\n"
          ]
        }
      ]
    },
    {
      "cell_type": "markdown",
      "metadata": {
        "id": "vwxzH4-EJ_8E"
      },
      "source": [
        "## Imports"
      ]
    },
    {
      "cell_type": "code",
      "metadata": {
        "colab": {
          "base_uri": "https://localhost:8080/"
        },
        "id": "RLitAFdJI9f_",
        "outputId": "fdd99525-fb5d-43f8-eab9-8efd08275a83"
      },
      "source": [
        "import soccer_twos"
      ],
      "execution_count": null,
      "outputs": [
        {
          "output_type": "stream",
          "name": "stderr",
          "text": [
            "Downloading...\n",
            "From: https://drive.google.com/uc?id=150nGbjgkAeIr8YfcK-blbZ9P7GYE7bms\n",
            "To: /usr/local/lib/python3.7/dist-packages/soccer_twos/temp/soccer_twos.zip\n",
            "83.4MB [00:01, 58.1MB/s]\n"
          ]
        }
      ]
    },
    {
      "cell_type": "markdown",
      "metadata": {
        "id": "vgzONbrTKD3x"
      },
      "source": [
        "## RL Loop"
      ]
    },
    {
      "cell_type": "markdown",
      "metadata": {
        "id": "gM6vA9FCLO9p"
      },
      "source": [
        "### Create environment"
      ]
    },
    {
      "cell_type": "code",
      "metadata": {
        "colab": {
          "base_uri": "https://localhost:8080/"
        },
        "id": "TXBp0BgLKpOW",
        "outputId": "1fdd4c18-32e4-4928-a14e-ab20df080658"
      },
      "source": [
        "# run this only once or change `worker_id` or `base_port` to avoid communication conflicts\n",
        "# e.g. `env = soccer_twos.make(worker_id=1)`\n",
        "\n",
        "env = soccer_twos.make()"
      ],
      "execution_count": null,
      "outputs": [
        {
          "output_type": "stream",
          "name": "stdout",
          "text": [
            "[INFO] Connected to Unity environment with package version 2.1.0-exp.1 and communication version 1.5.0\n"
          ]
        },
        {
          "output_type": "stream",
          "name": "stderr",
          "text": [
            "INFO:mlagents_envs.environment:Connected to Unity environment with package version 2.1.0-exp.1 and communication version 1.5.0\n"
          ]
        },
        {
          "output_type": "stream",
          "name": "stdout",
          "text": [
            "[INFO] Connected new brain: SoccerTwos?team=1\n"
          ]
        },
        {
          "output_type": "stream",
          "name": "stderr",
          "text": [
            "INFO:mlagents_envs.environment:Connected new brain: SoccerTwos?team=1\n"
          ]
        },
        {
          "output_type": "stream",
          "name": "stdout",
          "text": [
            "[INFO] Connected new brain: SoccerTwos?team=0\n"
          ]
        },
        {
          "output_type": "stream",
          "name": "stderr",
          "text": [
            "INFO:mlagents_envs.environment:Connected new brain: SoccerTwos?team=0\n"
          ]
        }
      ]
    },
    {
      "cell_type": "markdown",
      "metadata": {
        "id": "GYIcyIk1LRmB"
      },
      "source": [
        "### Run a single episode with random actions"
      ]
    },
    {
      "cell_type": "code",
      "metadata": {
        "colab": {
          "base_uri": "https://localhost:8080/"
        },
        "id": "lgE8n2MvJ0-Z",
        "outputId": "52b1a859-aca6-49b0-c108-ff10afb5628c"
      },
      "source": [
        "obs = env.reset()\n",
        "\n",
        "total_blue_reward = 0\n",
        "done = False\n",
        "while not done:\n",
        "    action = {\n",
        "        # team blue\n",
        "        0: env.action_space.sample(),\n",
        "        1: env.action_space.sample(),\n",
        "        # team orange\n",
        "        2: env.action_space.sample(),\n",
        "        3: env.action_space.sample(),\n",
        "    }\n",
        "    obs, reward, done, info = env.step(action)\n",
        "    total_blue_reward += reward[0] + reward[1]\n",
        "\n",
        "total_blue_reward"
      ],
      "execution_count": null,
      "outputs": [
        {
          "output_type": "execute_result",
          "data": {
            "text/plain": [
              "0.0"
            ]
          },
          "metadata": {},
          "execution_count": 11
        }
      ]
    }
  ]
}